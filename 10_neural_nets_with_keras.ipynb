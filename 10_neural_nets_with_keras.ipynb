{
 "cells": [
  {
   "cell_type": "markdown",
   "metadata": {},
   "source": [
    "**Capítulo 10 - Introdução às redes neurais artificiais com Keras**"
   ]
  },
  {
   "cell_type": "markdown",
   "metadata": {},
   "source": [
    "_Este notebook contém todo o código de amostra e soluções para os exercícios no capítulo 10._"
   ]
  },
  {
   "cell_type": "markdown",
   "metadata": {},
   "source": [
    "<table align=\"left\">\n",
    "  <td>\n",
    "    <a href=\"https://colab.research.google.com/github/ageron/handson-ml3/blob/main/10_neural_nets_with_keras.ipynb\" target=\"_parent\"><img src=\"https://colab.research.google.com/assets/colab-badge.svg\" alt=\"Open In Colab\"/></a>\n",
    "  </td>\n",
    "  <td>\n",
    "    <a target=\"_blank\" href=\"https://kaggle.com/kernels/welcome?src=https://github.com/ageron/handson-ml3/blob/main/10_neural_nets_with_keras.ipynb\"><img src=\"https://kaggle.com/static/images/open-in-kaggle.svg\" /></a>\n",
    "  </td>\n",
    "</table>"
   ]
  },
  {
   "cell_type": "markdown",
   "metadata": {
    "tags": []
   },
   "source": [
    "# Setup"
   ]
  },
  {
   "cell_type": "markdown",
   "metadata": {},
   "source": [
    "Este projeto requer Python 3.7 ou acima:"
   ]
  },
  {
   "cell_type": "code",
   "execution_count": 1,
   "metadata": {},
   "outputs": [],
   "source": [
    "import sys\n",
    "\n",
    "assert sys.version_info >= (3, 7)"
   ]
  },
  {
   "cell_type": "markdown",
   "metadata": {},
   "source": [
    "Também requer Scikit-Learn ≥ 1.0.1:"
   ]
  },
  {
   "cell_type": "code",
   "execution_count": 2,
   "metadata": {},
   "outputs": [],
   "source": [
    "from packaging import version\n",
    "import sklearn\n",
    "\n",
    "assert version.parse(sklearn.__version__) >= version.parse(\"1.0.1\")"
   ]
  },
  {
   "cell_type": "markdown",
   "metadata": {},
   "source": [
    "E tensorflow ≥ 2,8:"
   ]
  },
  {
   "cell_type": "code",
   "execution_count": 3,
   "metadata": {},
   "outputs": [
    {
     "name": "stderr",
     "output_type": "stream",
     "text": [
      "2024-01-18 19:28:49.102503: I tensorflow/core/platform/cpu_feature_guard.cc:193] This TensorFlow binary is optimized with oneAPI Deep Neural Network Library (oneDNN) to use the following CPU instructions in performance-critical operations:  AVX2 FMA\n",
      "To enable them in other operations, rebuild TensorFlow with the appropriate compiler flags.\n",
      "2024-01-18 19:28:54.670430: W tensorflow/stream_executor/platform/default/dso_loader.cc:64] Could not load dynamic library 'libcudart.so.11.0'; dlerror: libcudart.so.11.0: cannot open shared object file: No such file or directory; LD_LIBRARY_PATH: /usr/local/cudnn/lib64:/usr/local/cuda/extras/CUPTI/lib64:/usr/local/cuda/lib64:/usr/local/cudnn/lib64:/usr/local/cuda/extras/CUPTI/lib64:/usr/local/cuda/lib64:/usr/local/cudnn/lib64:/usr/local/cuda/extras/CUPTI/lib64:/usr/local/cuda/lib64:/usr/local/cudnn/lib64:/usr/local/cuda/extras/CUPTI/lib64:/usr/local/cuda/lib64:/usr/local/cuda-12/lib64:/usr/local/cudnn/lib64:/usr/local/cuda/extras/CUPTI/lib64:/usr/local/cuda/lib64:\n",
      "2024-01-18 19:28:54.670458: I tensorflow/stream_executor/cuda/cudart_stub.cc:29] Ignore above cudart dlerror if you do not have a GPU set up on your machine.\n",
      "2024-01-18 19:28:55.228812: E tensorflow/stream_executor/cuda/cuda_blas.cc:2981] Unable to register cuBLAS factory: Attempting to register factory for plugin cuBLAS when one has already been registered\n",
      "2024-01-18 19:29:12.106827: W tensorflow/stream_executor/platform/default/dso_loader.cc:64] Could not load dynamic library 'libnvinfer.so.7'; dlerror: libnvinfer.so.7: cannot open shared object file: No such file or directory; LD_LIBRARY_PATH: /usr/local/cudnn/lib64:/usr/local/cuda/extras/CUPTI/lib64:/usr/local/cuda/lib64:/usr/local/cudnn/lib64:/usr/local/cuda/extras/CUPTI/lib64:/usr/local/cuda/lib64:/usr/local/cudnn/lib64:/usr/local/cuda/extras/CUPTI/lib64:/usr/local/cuda/lib64:/usr/local/cudnn/lib64:/usr/local/cuda/extras/CUPTI/lib64:/usr/local/cuda/lib64:/usr/local/cuda-12/lib64:/usr/local/cudnn/lib64:/usr/local/cuda/extras/CUPTI/lib64:/usr/local/cuda/lib64:\n",
      "2024-01-18 19:29:12.107836: W tensorflow/stream_executor/platform/default/dso_loader.cc:64] Could not load dynamic library 'libnvinfer_plugin.so.7'; dlerror: libnvinfer_plugin.so.7: cannot open shared object file: No such file or directory; LD_LIBRARY_PATH: /usr/local/cudnn/lib64:/usr/local/cuda/extras/CUPTI/lib64:/usr/local/cuda/lib64:/usr/local/cudnn/lib64:/usr/local/cuda/extras/CUPTI/lib64:/usr/local/cuda/lib64:/usr/local/cudnn/lib64:/usr/local/cuda/extras/CUPTI/lib64:/usr/local/cuda/lib64:/usr/local/cudnn/lib64:/usr/local/cuda/extras/CUPTI/lib64:/usr/local/cuda/lib64:/usr/local/cuda-12/lib64:/usr/local/cudnn/lib64:/usr/local/cuda/extras/CUPTI/lib64:/usr/local/cuda/lib64:\n",
      "2024-01-18 19:29:12.107846: W tensorflow/compiler/tf2tensorrt/utils/py_utils.cc:38] TF-TRT Warning: Cannot dlopen some TensorRT libraries. If you would like to use Nvidia GPU with TensorRT, please make sure the missing libraries mentioned above are installed properly.\n"
     ]
    }
   ],
   "source": [
    "import tensorflow as tf\n",
    "\n",
    "assert version.parse(tf.__version__) >= version.parse(\"2.8.0\")"
   ]
  },
  {
   "cell_type": "markdown",
   "metadata": {},
   "source": [
    "Como fizemos nos capítulos anteriores, vamos definir os tamanhos de fonte padrão para tornar as figuras mais bonitas:"
   ]
  },
  {
   "cell_type": "code",
   "execution_count": 4,
   "metadata": {},
   "outputs": [],
   "source": [
    "import matplotlib.pyplot as plt\n",
    "\n",
    "plt.rc('font', size=14)\n",
    "plt.rc('axes', labelsize=14, titlesize=14)\n",
    "plt.rc('legend', fontsize=14)\n",
    "plt.rc('xtick', labelsize=10)\n",
    "plt.rc('ytick', labelsize=10)"
   ]
  },
  {
   "cell_type": "markdown",
   "metadata": {},
   "source": [
    "E vamos criar a pasta `images/ann` (se ainda não existir) e definir a função` save_fig () `que é usada através deste notebook para salvar as figuras em alta resolução para o livro:"
   ]
  },
  {
   "cell_type": "code",
   "execution_count": 5,
   "metadata": {},
   "outputs": [],
   "source": [
    "from pathlib import Path\n",
    "\n",
    "IMAGES_PATH = Path() / \"images\" / \"ann\"\n",
    "IMAGES_PATH.mkdir(parents=True, exist_ok=True)\n",
    "\n",
    "def save_fig(fig_id, tight_layout=True, fig_extension=\"png\", resolution=300):\n",
    "    path = IMAGES_PATH / f\"{fig_id}.{fig_extension}\"\n",
    "    if tight_layout:\n",
    "        plt.tight_layout()\n",
    "    plt.savefig(path, format=fig_extension, dpi=resolution)"
   ]
  },
  {
   "cell_type": "markdown",
   "metadata": {},
   "source": [
    "# Dos neurônios biológicos a artificiais\n",
    "## O perceptron"
   ]
  },
  {
   "cell_type": "code",
   "execution_count": 6,
   "metadata": {},
   "outputs": [],
   "source": [
    "import numpy as np\n",
    "from sklearn.datasets import load_iris\n",
    "from sklearn.linear_model import Perceptron\n",
    "\n",
    "iris = load_iris(as_frame=True)\n",
    "X = iris.data[[\"petal length (cm)\", \"petal width (cm)\"]].values\n",
    "y = (iris.target == 0)  # Iris setosa\n",
    "\n",
    "per_clf = Perceptron(random_state=42)\n",
    "per_clf.fit(X, y)\n",
    "\n",
    "X_new = [[2, 0.5], [3, 1]]\n",
    "y_pred = per_clf.predict(X_new)  # predicts True and False for these 2 flowers"
   ]
  },
  {
   "cell_type": "code",
   "execution_count": 7,
   "metadata": {},
   "outputs": [
    {
     "data": {
      "text/plain": [
       "array([ True, False])"
      ]
     },
     "execution_count": 7,
     "metadata": {},
     "output_type": "execute_result"
    }
   ],
   "source": [
    "y_pred"
   ]
  },
  {
   "cell_type": "markdown",
   "metadata": {},
   "source": [
    "O `perceptron` é equivalente a um` sgdclassifier` com `perda =\" perceptron \"`, sem regularização e uma taxa de aprendizado constante igual a 1:"
   ]
  },
  {
   "cell_type": "code",
   "execution_count": 8,
   "metadata": {},
   "outputs": [],
   "source": [
    "# extra code – shows how to build and train a Perceptron\n",
    "\n",
    "from sklearn.linear_model import SGDClassifier\n",
    "\n",
    "sgd_clf = SGDClassifier(loss=\"perceptron\", penalty=None,\n",
    "                        learning_rate=\"constant\", eta0=1, random_state=42)\n",
    "sgd_clf.fit(X, y)\n",
    "assert (sgd_clf.coef_ == per_clf.coef_).all()\n",
    "assert (sgd_clf.intercept_ == per_clf.intercept_).all()"
   ]
  },
  {
   "cell_type": "markdown",
   "metadata": {},
   "source": [
    "Quando o perceptron encontra um limite de decisão que separa corretamente as classes, ele para de aprender.Isso significa que o limite de decisão geralmente é bastante próximo de uma classe:"
   ]
  },
  {
   "cell_type": "code",
   "execution_count": 9,
   "metadata": {},
   "outputs": [
    {
     "data": {
      "image/png": "[encoded data removed]",
      "text/plain": [
       "<Figure size 700x300 with 1 Axes>"
      ]
     },
     "metadata": {},
     "output_type": "display_data"
    }
   ],
   "source": [
    "# extra code – plots the decision boundary of a Perceptron on the iris dataset\n",
    "\n",
    "import matplotlib.pyplot as plt\n",
    "from matplotlib.colors import ListedColormap\n",
    "\n",
    "a = -per_clf.coef_[0, 0] / per_clf.coef_[0, 1]\n",
    "b = -per_clf.intercept_ / per_clf.coef_[0, 1]\n",
    "axes = [0, 5, 0, 2]\n",
    "x0, x1 = np.meshgrid(\n",
    "    np.linspace(axes[0], axes[1], 500).reshape(-1, 1),\n",
    "    np.linspace(axes[2], axes[3], 200).reshape(-1, 1),\n",
    ")\n",
    "X_new = np.c_[x0.ravel(), x1.ravel()]\n",
    "y_predict = per_clf.predict(X_new)\n",
    "zz = y_predict.reshape(x0.shape)\n",
    "custom_cmap = ListedColormap(['#9898ff', '#fafab0'])\n",
    "\n",
    "plt.figure(figsize=(7, 3))\n",
    "plt.plot(X[y == 0, 0], X[y == 0, 1], \"bs\", label=\"Not Iris setosa\")\n",
    "plt.plot(X[y == 1, 0], X[y == 1, 1], \"yo\", label=\"Iris setosa\")\n",
    "plt.plot([axes[0], axes[1]], [a * axes[0] + b, a * axes[1] + b], \"k-\",\n",
    "         linewidth=3)\n",
    "plt.contourf(x0, x1, zz, cmap=custom_cmap)\n",
    "plt.xlabel(\"Petal length\")\n",
    "plt.ylabel(\"Petal width\")\n",
    "plt.legend(loc=\"lower right\")\n",
    "plt.axis(axes)\n",
    "plt.show()"
   ]
  },
  {
   "cell_type": "markdown",
   "metadata": {},
   "source": [
    "**Funções de ativação**"
   ]
  },
  {
   "cell_type": "code",
   "execution_count": 10,
   "metadata": {},
   "outputs": [
    {
     "data": {
      "image/png": "[encoded data removed]",
      "text/plain": [
       "<Figure size 1100x310 with 2 Axes>"
      ]
     },
     "metadata": {},
     "output_type": "display_data"
    }
   ],
   "source": [
    "# extra code – this cell generates and saves Figure 10–8\n",
    "\n",
    "from scipy.special import expit as sigmoid\n",
    "\n",
    "def relu(z):\n",
    "    return np.maximum(0, z)\n",
    "\n",
    "def derivative(f, z, eps=0.000001):\n",
    "    return (f(z + eps) - f(z - eps))/(2 * eps)\n",
    "\n",
    "max_z = 4.5\n",
    "z = np.linspace(-max_z, max_z, 200)\n",
    "\n",
    "plt.figure(figsize=(11, 3.1))\n",
    "\n",
    "plt.subplot(121)\n",
    "plt.plot([-max_z, 0], [0, 0], \"r-\", linewidth=2, label=\"Heaviside\")\n",
    "plt.plot(z, relu(z), \"m-.\", linewidth=2, label=\"ReLU\")\n",
    "plt.plot([0, 0], [0, 1], \"r-\", linewidth=0.5)\n",
    "plt.plot([0, max_z], [1, 1], \"r-\", linewidth=2)\n",
    "plt.plot(z, sigmoid(z), \"g--\", linewidth=2, label=\"Sigmoid\")\n",
    "plt.plot(z, np.tanh(z), \"b-\", linewidth=1, label=\"Tanh\")\n",
    "plt.grid(True)\n",
    "plt.title(\"Activation functions\")\n",
    "plt.axis([-max_z, max_z, -1.65, 2.4])\n",
    "plt.gca().set_yticks([-1, 0, 1, 2])\n",
    "plt.legend(loc=\"lower right\", fontsize=13)\n",
    "\n",
    "plt.subplot(122)\n",
    "plt.plot(z, derivative(np.sign, z), \"r-\", linewidth=2, label=\"Heaviside\")\n",
    "plt.plot(0, 0, \"ro\", markersize=5)\n",
    "plt.plot(0, 0, \"rx\", markersize=10)\n",
    "plt.plot(z, derivative(sigmoid, z), \"g--\", linewidth=2, label=\"Sigmoid\")\n",
    "plt.plot(z, derivative(np.tanh, z), \"b-\", linewidth=1, label=\"Tanh\")\n",
    "plt.plot([-max_z, 0], [0, 0], \"m-.\", linewidth=2)\n",
    "plt.plot([0, max_z], [1, 1], \"m-.\", linewidth=2)\n",
    "plt.plot([0, 0], [0, 1], \"m-.\", linewidth=1.2)\n",
    "plt.plot(0, 1, \"mo\", markersize=5)\n",
    "plt.plot(0, 1, \"mx\", markersize=10)\n",
    "plt.grid(True)\n",
    "plt.title(\"Derivatives\")\n",
    "plt.axis([-max_z, max_z, -0.2, 1.2])\n",
    "\n",
    "save_fig(\"activation_functions_plot\")\n",
    "plt.show()"
   ]
  },
  {
   "cell_type": "markdown",
   "metadata": {},
   "source": [
    "## Regressão MLPS"
   ]
  },
  {
   "cell_type": "code",
   "execution_count": 11,
   "metadata": {},
   "outputs": [],
   "source": [
    "from sklearn.datasets import fetch_california_housing\n",
    "from sklearn.metrics import mean_squared_error\n",
    "from sklearn.model_selection import train_test_split\n",
    "from sklearn.neural_network import MLPRegressor\n",
    "from sklearn.pipeline import make_pipeline\n",
    "from sklearn.preprocessing import StandardScaler\n",
    "\n",
    "housing = fetch_california_housing()\n",
    "X_train_full, X_test, y_train_full, y_test = train_test_split(\n",
    "    housing.data, housing.target, random_state=42)\n",
    "X_train, X_valid, y_train, y_valid = train_test_split(\n",
    "    X_train_full, y_train_full, random_state=42)\n",
    "\n",
    "mlp_reg = MLPRegressor(hidden_layer_sizes=[50, 50, 50], random_state=42)\n",
    "pipeline = make_pipeline(StandardScaler(), mlp_reg)\n",
    "pipeline.fit(X_train, y_train)\n",
    "y_pred = pipeline.predict(X_valid)\n",
    "rmse = mean_squared_error(y_valid, y_pred, squared=False)"
   ]
  },
  {
   "cell_type": "code",
   "execution_count": 12,
   "metadata": {},
   "outputs": [
    {
     "data": {
      "text/plain": [
       "0.5053326657968448"
      ]
     },
     "execution_count": 12,
     "metadata": {},
     "output_type": "execute_result"
    }
   ],
   "source": [
    "rmse"
   ]
  },
  {
   "cell_type": "markdown",
   "metadata": {},
   "source": [
    "## Classificação MLPs"
   ]
  },
  {
   "cell_type": "code",
   "execution_count": 13,
   "metadata": {},
   "outputs": [
    {
     "data": {
      "text/plain": [
       "1.0"
      ]
     },
     "execution_count": 13,
     "metadata": {},
     "output_type": "execute_result"
    }
   ],
   "source": [
    "# extra code – this was left as an exercise for the reader\n",
    "\n",
    "from sklearn.datasets import load_iris\n",
    "from sklearn.model_selection import train_test_split\n",
    "from sklearn.neural_network import MLPClassifier\n",
    "\n",
    "iris = load_iris()\n",
    "X_train_full, X_test, y_train_full, y_test = train_test_split(\n",
    "    iris.data, iris.target, test_size=0.1, random_state=42)\n",
    "X_train, X_valid, y_train, y_valid = train_test_split(\n",
    "    X_train_full, y_train_full, test_size=0.1, random_state=42)\n",
    "\n",
    "mlp_clf = MLPClassifier(hidden_layer_sizes=[5], max_iter=10_000,\n",
    "                        random_state=42)\n",
    "pipeline = make_pipeline(StandardScaler(), mlp_clf)\n",
    "pipeline.fit(X_train, y_train)\n",
    "accuracy = pipeline.score(X_valid, y_valid)\n",
    "accuracy"
   ]
  },
  {
   "cell_type": "markdown",
   "metadata": {},
   "source": [
    "# Implementando MLPs com Keras\n",
    "## Construindo um classificador de imagem usando a API seqüencial\n",
    "### usando keras para carregar o conjunto de dados"
   ]
  },
  {
   "cell_type": "markdown",
   "metadata": {},
   "source": [
    "Vamos começar carregando o conjunto de dados MNIST da moda.Keras possui várias funções para carregar conjuntos de dados populares em `tf.keras.datasets`.O conjunto de dados já está dividido para você entre um conjunto de treinamento (60.000 imagens) e um conjunto de testes (10.000 imagens), mas pode ser útil dividir ainda mais o conjunto de treinamento para ter um conjunto de validação.Usaremos 55.000 imagens para treinamento e 5.000 para validação."
   ]
  },
  {
   "cell_type": "code",
   "execution_count": 14,
   "metadata": {},
   "outputs": [
    {
     "name": "stdout",
     "output_type": "stream",
     "text": [
      "Downloading data from https://storage.googleapis.com/tensorflow/tf-keras-datasets/train-labels-idx1-ubyte.gz\n",
      "29515/29515 [==============================] - 0s 0us/step\n",
      "Downloading data from https://storage.googleapis.com/tensorflow/tf-keras-datasets/train-images-idx3-ubyte.gz\n",
      "26421880/26421880 [==============================] - 2s 0us/step\n",
      "Downloading data from https://storage.googleapis.com/tensorflow/tf-keras-datasets/t10k-labels-idx1-ubyte.gz\n",
      "5148/5148 [==============================] - 0s 0us/step\n",
      "Downloading data from https://storage.googleapis.com/tensorflow/tf-keras-datasets/t10k-images-idx3-ubyte.gz\n",
      "4422102/4422102 [==============================] - 0s 0us/step\n"
     ]
    }
   ],
   "source": [
    "import tensorflow as tf\n",
    "\n",
    "fashion_mnist = tf.keras.datasets.fashion_mnist.load_data()\n",
    "(X_train_full, y_train_full), (X_test, y_test) = fashion_mnist\n",
    "X_train, y_train = X_train_full[:-5000], y_train_full[:-5000]\n",
    "X_valid, y_valid = X_train_full[-5000:], y_train_full[-5000:]"
   ]
  },
  {
   "cell_type": "markdown",
   "metadata": {},
   "source": [
    "O conjunto de treinamento contém 60.000 imagens em escala de cinza, cada um 28x28 pixels:"
   ]
  },
  {
   "cell_type": "code",
   "execution_count": 15,
   "metadata": {},
   "outputs": [
    {
     "data": {
      "text/plain": [
       "(55000, 28, 28)"
      ]
     },
     "execution_count": 15,
     "metadata": {},
     "output_type": "execute_result"
    }
   ],
   "source": [
    "X_train.shape"
   ]
  },
  {
   "cell_type": "markdown",
   "metadata": {},
   "source": [
    "Cada intensidade do pixel é representada como um byte (0 a 255):"
   ]
  },
  {
   "cell_type": "code",
   "execution_count": 16,
   "metadata": {},
   "outputs": [
    {
     "data": {
      "text/plain": [
       "dtype('uint8')"
      ]
     },
     "execution_count": 16,
     "metadata": {},
     "output_type": "execute_result"
    }
   ],
   "source": [
    "X_train.dtype"
   ]
  },
  {
   "cell_type": "markdown",
   "metadata": {},
   "source": [
    "Vamos escalar as intensidades de pixel até a faixa de 0-1 e convertê-las em flutuadores, dividindo-se por 255:"
   ]
  },
  {
   "cell_type": "code",
   "execution_count": 17,
   "metadata": {},
   "outputs": [],
   "source": [
    "X_train, X_valid, X_test = X_train / 255., X_valid / 255., X_test / 255."
   ]
  },
  {
   "cell_type": "markdown",
   "metadata": {},
   "source": [
    "Você pode plotar uma imagem usando a função `imshow()`, com um `'binary'`\n",
    " mapa de cores:"
   ]
  },
  {
   "cell_type": "code",
   "execution_count": 18,
   "metadata": {},
   "outputs": [
    {
     "data": {
      "image/png": "[encoded data removed]",
      "text/plain": [
       "<Figure size 640x480 with 1 Axes>"
      ]
     },
     "metadata": {},
     "output_type": "display_data"
    }
   ],
   "source": [
    "# extra code\n",
    "\n",
    "plt.imshow(X_train[0], cmap=\"binary\")\n",
    "plt.axis('off')\n",
    "plt.show()"
   ]
  },
  {
   "cell_type": "markdown",
   "metadata": {},
   "source": [
    "Os rótulos são os IDs de classe (representados como UINT8), de 0 a 9:"
   ]
  },
  {
   "cell_type": "code",
   "execution_count": 19,
   "metadata": {},
   "outputs": [
    {
     "data": {
      "text/plain": [
       "array([9, 0, 0, ..., 9, 0, 2], dtype=uint8)"
      ]
     },
     "execution_count": 19,
     "metadata": {},
     "output_type": "execute_result"
    }
   ],
   "source": [
    "y_train"
   ]
  },
  {
   "cell_type": "markdown",
   "metadata": {},
   "source": [
    "Aqui estão os nomes de classe correspondentes:"
   ]
  },
  {
   "cell_type": "code",
   "execution_count": 20,
   "metadata": {},
   "outputs": [],
   "source": [
    "class_names = [\"T-shirt/top\", \"Trouser\", \"Pullover\", \"Dress\", \"Coat\",\n",
    "               \"Sandal\", \"Shirt\", \"Sneaker\", \"Bag\", \"Ankle boot\"]"
   ]
  },
  {
   "cell_type": "markdown",
   "metadata": {},
   "source": [
    "Portanto, a primeira imagem no conjunto de treinamento é uma bota no tornozelo:"
   ]
  },
  {
   "cell_type": "code",
   "execution_count": 21,
   "metadata": {},
   "outputs": [
    {
     "data": {
      "text/plain": [
       "'Ankle boot'"
      ]
     },
     "execution_count": 21,
     "metadata": {},
     "output_type": "execute_result"
    }
   ],
   "source": [
    "class_names[y_train[0]]"
   ]
  },
  {
   "cell_type": "markdown",
   "metadata": {},
   "source": [
    "Vamos dar uma olhada em uma amostra das imagens no conjunto de dados:"
   ]
  },
  {
   "cell_type": "code",
   "execution_count": 22,
   "metadata": {},
   "outputs": [
    {
     "data": {
      "image/png": "[encoded data removed]",
      "text/plain": [
       "<Figure size 1200x480 with 40 Axes>"
      ]
     },
     "metadata": {},
     "output_type": "display_data"
    }
   ],
   "source": [
    "# extra code – this cell generates and saves Figure 10–10\n",
    "\n",
    "n_rows = 4\n",
    "n_cols = 10\n",
    "plt.figure(figsize=(n_cols * 1.2, n_rows * 1.2))\n",
    "for row in range(n_rows):\n",
    "    for col in range(n_cols):\n",
    "        index = n_cols * row + col\n",
    "        plt.subplot(n_rows, n_cols, index + 1)\n",
    "        plt.imshow(X_train[index], cmap=\"binary\", interpolation=\"nearest\")\n",
    "        plt.axis('off')\n",
    "        plt.title(class_names[y_train[index]])\n",
    "plt.subplots_adjust(wspace=0.2, hspace=0.5)\n",
    "\n",
    "save_fig(\"fashion_mnist_plot\")\n",
    "plt.show()"
   ]
  },
  {
   "cell_type": "markdown",
   "metadata": {},
   "source": [
    "### Criando o modelo usando a API seqüencial"
   ]
  },
  {
   "cell_type": "code",
   "execution_count": 23,
   "metadata": {},
   "outputs": [
    {
     "name": "stderr",
     "output_type": "stream",
     "text": [
      "2024-01-18 19:30:53.093806: E tensorflow/stream_executor/cuda/cuda_driver.cc:265] failed call to cuInit: CUDA_ERROR_NO_DEVICE: no CUDA-capable device is detected\n",
      "2024-01-18 19:30:53.093862: I tensorflow/stream_executor/cuda/cuda_diagnostics.cc:156] kernel driver does not appear to be running on this host (dayvson): /proc/driver/nvidia/version does not exist\n",
      "2024-01-18 19:30:53.098296: I tensorflow/core/platform/cpu_feature_guard.cc:193] This TensorFlow binary is optimized with oneAPI Deep Neural Network Library (oneDNN) to use the following CPU instructions in performance-critical operations:  AVX2 FMA\n",
      "To enable them in other operations, rebuild TensorFlow with the appropriate compiler flags.\n"
     ]
    }
   ],
   "source": [
    "tf.random.set_seed(42)\n",
    "model = tf.keras.Sequential()\n",
    "model.add(tf.keras.layers.InputLayer(input_shape=[28, 28]))\n",
    "model.add(tf.keras.layers.Flatten())\n",
    "model.add(tf.keras.layers.Dense(300, activation=\"relu\"))\n",
    "model.add(tf.keras.layers.Dense(100, activation=\"relu\"))\n",
    "model.add(tf.keras.layers.Dense(10, activation=\"softmax\"))"
   ]
  },
  {
   "cell_type": "code",
   "execution_count": 24,
   "metadata": {},
   "outputs": [],
   "source": [
    "# extra code – clear the session to reset the name counters\n",
    "tf.keras.backend.clear_session()\n",
    "tf.random.set_seed(42)\n",
    "\n",
    "model = tf.keras.Sequential([\n",
    "    tf.keras.layers.Flatten(input_shape=[28, 28]),\n",
    "    tf.keras.layers.Dense(300, activation=\"relu\"),\n",
    "    tf.keras.layers.Dense(100, activation=\"relu\"),\n",
    "    tf.keras.layers.Dense(10, activation=\"softmax\")\n",
    "])"
   ]
  },
  {
   "cell_type": "code",
   "execution_count": 25,
   "metadata": {},
   "outputs": [
    {
     "name": "stdout",
     "output_type": "stream",
     "text": [
      "Model: \"sequential\"\n",
      "_________________________________________________________________\n",
      " Layer (type)                Output Shape              Param #   \n",
      "=================================================================\n",
      " flatten (Flatten)           (None, 784)               0         \n",
      "                                                                 \n",
      " dense (Dense)               (None, 300)               235500    \n",
      "                                                                 \n",
      " dense_1 (Dense)             (None, 100)               30100     \n",
      "                                                                 \n",
      " dense_2 (Dense)             (None, 10)                1010      \n",
      "                                                                 \n",
      "=================================================================\n",
      "Total params: 266,610\n",
      "Trainable params: 266,610\n",
      "Non-trainable params: 0\n",
      "_________________________________________________________________\n"
     ]
    }
   ],
   "source": [
    "model.summary()"
   ]
  },
  {
   "cell_type": "code",
   "execution_count": 26,
   "metadata": {},
   "outputs": [
    {
     "data": {
      "image/png": "[encoded data removed]",
      "text/plain": [
       "<IPython.core.display.Image object>"
      ]
     },
     "execution_count": 26,
     "metadata": {},
     "output_type": "execute_result"
    }
   ],
   "source": [
    "# extra code – another way to display the model's architecture\n",
    "tf.keras.utils.plot_model(model, \"my_fashion_mnist_model.png\", show_shapes=True)"
   ]
  },
  {
   "cell_type": "code",
   "execution_count": 27,
   "metadata": {},
   "outputs": [
    {
     "data": {
      "text/plain": [
       "[<keras.layers.reshaping.flatten.Flatten at 0x7f8793bad9c0>,\n",
       " <keras.layers.core.dense.Dense at 0x7f8789d665c0>,\n",
       " <keras.layers.core.dense.Dense at 0x7f876c524eb0>,\n",
       " <keras.layers.core.dense.Dense at 0x7f876c525120>]"
      ]
     },
     "execution_count": 27,
     "metadata": {},
     "output_type": "execute_result"
    }
   ],
   "source": [
    "model.layers"
   ]
  },
  {
   "cell_type": "code",
   "execution_count": 28,
   "metadata": {},
   "outputs": [
    {
     "data": {
      "text/plain": [
       "'dense'"
      ]
     },
     "execution_count": 28,
     "metadata": {},
     "output_type": "execute_result"
    }
   ],
   "source": [
    "hidden1 = model.layers[1]\n",
    "hidden1.name"
   ]
  },
  {
   "cell_type": "code",
   "execution_count": 29,
   "metadata": {},
   "outputs": [
    {
     "data": {
      "text/plain": [
       "True"
      ]
     },
     "execution_count": 29,
     "metadata": {},
     "output_type": "execute_result"
    }
   ],
   "source": [
    "model.get_layer('dense') is hidden1"
   ]
  },
  {
   "cell_type": "code",
   "execution_count": 30,
   "metadata": {},
   "outputs": [
    {
     "data": {
      "text/plain": [
       "array([[ 0.03640077,  0.05351375,  0.0475008 , ...,  0.02987488,\n",
       "         0.02597682, -0.05292917],\n",
       "       [ 0.04573371, -0.04544484,  0.04541981, ...,  0.00558751,\n",
       "        -0.03617882, -0.02609288],\n",
       "       [-0.01702479,  0.03576501, -0.0204714 , ...,  0.04278874,\n",
       "         0.03657717,  0.04365089],\n",
       "       ...,\n",
       "       [ 0.00439613, -0.04089494,  0.06004365, ...,  0.06964153,\n",
       "        -0.01552076,  0.04892201],\n",
       "       [ 0.02143387,  0.05344976, -0.04100364, ...,  0.06829962,\n",
       "         0.00709143,  0.03951229],\n",
       "       [ 0.01155779,  0.04848827, -0.06194749, ...,  0.00279243,\n",
       "        -0.05045281,  0.02076955]], dtype=float32)"
      ]
     },
     "execution_count": 30,
     "metadata": {},
     "output_type": "execute_result"
    }
   ],
   "source": [
    "weights, biases = hidden1.get_weights()\n",
    "weights"
   ]
  },
  {
   "cell_type": "code",
   "execution_count": 31,
   "metadata": {},
   "outputs": [
    {
     "data": {
      "text/plain": [
       "(784, 300)"
      ]
     },
     "execution_count": 31,
     "metadata": {},
     "output_type": "execute_result"
    }
   ],
   "source": [
    "weights.shape"
   ]
  },
  {
   "cell_type": "code",
   "execution_count": 32,
   "metadata": {},
   "outputs": [
    {
     "data": {
      "text/plain": [
       "array([0., 0., 0., 0., 0., 0., 0., 0., 0., 0., 0., 0., 0., 0., 0., 0., 0.,\n",
       "       0., 0., 0., 0., 0., 0., 0., 0., 0., 0., 0., 0., 0., 0., 0., 0., 0.,\n",
       "       0., 0., 0., 0., 0., 0., 0., 0., 0., 0., 0., 0., 0., 0., 0., 0., 0.,\n",
       "       0., 0., 0., 0., 0., 0., 0., 0., 0., 0., 0., 0., 0., 0., 0., 0., 0.,\n",
       "       0., 0., 0., 0., 0., 0., 0., 0., 0., 0., 0., 0., 0., 0., 0., 0., 0.,\n",
       "       0., 0., 0., 0., 0., 0., 0., 0., 0., 0., 0., 0., 0., 0., 0., 0., 0.,\n",
       "       0., 0., 0., 0., 0., 0., 0., 0., 0., 0., 0., 0., 0., 0., 0., 0., 0.,\n",
       "       0., 0., 0., 0., 0., 0., 0., 0., 0., 0., 0., 0., 0., 0., 0., 0., 0.,\n",
       "       0., 0., 0., 0., 0., 0., 0., 0., 0., 0., 0., 0., 0., 0., 0., 0., 0.,\n",
       "       0., 0., 0., 0., 0., 0., 0., 0., 0., 0., 0., 0., 0., 0., 0., 0., 0.,\n",
       "       0., 0., 0., 0., 0., 0., 0., 0., 0., 0., 0., 0., 0., 0., 0., 0., 0.,\n",
       "       0., 0., 0., 0., 0., 0., 0., 0., 0., 0., 0., 0., 0., 0., 0., 0., 0.,\n",
       "       0., 0., 0., 0., 0., 0., 0., 0., 0., 0., 0., 0., 0., 0., 0., 0., 0.,\n",
       "       0., 0., 0., 0., 0., 0., 0., 0., 0., 0., 0., 0., 0., 0., 0., 0., 0.,\n",
       "       0., 0., 0., 0., 0., 0., 0., 0., 0., 0., 0., 0., 0., 0., 0., 0., 0.,\n",
       "       0., 0., 0., 0., 0., 0., 0., 0., 0., 0., 0., 0., 0., 0., 0., 0., 0.,\n",
       "       0., 0., 0., 0., 0., 0., 0., 0., 0., 0., 0., 0., 0., 0., 0., 0., 0.,\n",
       "       0., 0., 0., 0., 0., 0., 0., 0., 0., 0., 0.], dtype=float32)"
      ]
     },
     "execution_count": 32,
     "metadata": {},
     "output_type": "execute_result"
    }
   ],
   "source": [
    "biases"
   ]
  },
  {
   "cell_type": "code",
   "execution_count": 33,
   "metadata": {},
   "outputs": [
    {
     "data": {
      "text/plain": [
       "(300,)"
      ]
     },
     "execution_count": 33,
     "metadata": {},
     "output_type": "execute_result"
    }
   ],
   "source": [
    "biases.shape"
   ]
  },
  {
   "cell_type": "markdown",
   "metadata": {},
   "source": [
    "### Compilando o modelo"
   ]
  },
  {
   "cell_type": "code",
   "execution_count": 34,
   "metadata": {},
   "outputs": [],
   "source": [
    "model.compile(loss=\"sparse_categorical_crossentropy\",\n",
    "              optimizer=\"sgd\",\n",
    "              metrics=[\"accuracy\"])"
   ]
  },
  {
   "cell_type": "markdown",
   "metadata": {},
   "source": [
    "Isso é equivalente a:"
   ]
  },
  {
   "cell_type": "code",
   "execution_count": 35,
   "metadata": {},
   "outputs": [],
   "source": [
    "# extra code – this cell is equivalent to the previous cell\n",
    "model.compile(loss=tf.keras.losses.sparse_categorical_crossentropy,\n",
    "              optimizer=tf.keras.optimizers.SGD(),\n",
    "              metrics=[tf.keras.metrics.sparse_categorical_accuracy])"
   ]
  },
  {
   "cell_type": "code",
   "execution_count": 36,
   "metadata": {},
   "outputs": [
    {
     "data": {
      "text/plain": [
       "array([[1., 0., 0., 0., 0., 0., 0., 0., 0., 0.],\n",
       "       [0., 0., 0., 0., 0., 1., 0., 0., 0., 0.],\n",
       "       [0., 1., 0., 0., 0., 0., 0., 0., 0., 0.],\n",
       "       [1., 0., 0., 0., 0., 0., 0., 0., 0., 0.]], dtype=float32)"
      ]
     },
     "execution_count": 36,
     "metadata": {},
     "output_type": "execute_result"
    }
   ],
   "source": [
    "# extra code – shows how to convert class ids to one-hot vectors\n",
    "tf.keras.utils.to_categorical([0, 5, 1, 0], num_classes=10)"
   ]
  },
  {
   "cell_type": "markdown",
   "metadata": {},
   "source": [
    "Nota: É importante definir `num_classes` quando o número de classes é maior que o ID máximo de classe na amostra."
   ]
  },
  {
   "cell_type": "code",
   "execution_count": 37,
   "metadata": {},
   "outputs": [
    {
     "data": {
      "text/plain": [
       "array([0, 5, 1, 0])"
      ]
     },
     "execution_count": 37,
     "metadata": {},
     "output_type": "execute_result"
    }
   ],
   "source": [
    "# extra code – shows how to convert one-hot vectors to class ids\n",
    "np.argmax(\n",
    "    [[1., 0., 0., 0., 0., 0., 0., 0., 0., 0.],\n",
    "     [0., 0., 0., 0., 0., 1., 0., 0., 0., 0.],\n",
    "     [0., 1., 0., 0., 0., 0., 0., 0., 0., 0.],\n",
    "     [1., 0., 0., 0., 0., 0., 0., 0., 0., 0.]],\n",
    "    axis=1\n",
    ")"
   ]
  },
  {
   "cell_type": "markdown",
   "metadata": {},
   "source": [
    "### Treinando e avaliando o modelo"
   ]
  },
  {
   "cell_type": "code",
   "execution_count": 38,
   "metadata": {},
   "outputs": [
    {
     "name": "stderr",
     "output_type": "stream",
     "text": [
      "2024-01-18 19:30:54.733078: W tensorflow/core/framework/cpu_allocator_impl.cc:82] Allocation of 172480000 exceeds 10% of free system memory.\n"
     ]
    },
    {
     "name": "stdout",
     "output_type": "stream",
     "text": [
      "Epoch 1/30\n",
      "1719/1719 [==============================] - 7s 3ms/step - loss: 0.7182 - sparse_categorical_accuracy: 0.7619 - val_loss: 0.5161 - val_sparse_categorical_accuracy: 0.8158\n",
      "Epoch 2/30\n",
      "1719/1719 [==============================] - 4s 3ms/step - loss: 0.4908 - sparse_categorical_accuracy: 0.8285 - val_loss: 0.4668 - val_sparse_categorical_accuracy: 0.8298\n",
      "Epoch 3/30\n",
      "1719/1719 [==============================] - 5s 3ms/step - loss: 0.4436 - sparse_categorical_accuracy: 0.8438 - val_loss: 0.4262 - val_sparse_categorical_accuracy: 0.8508\n",
      "Epoch 4/30\n",
      "1719/1719 [==============================] - 5s 3ms/step - loss: 0.4175 - sparse_categorical_accuracy: 0.8534 - val_loss: 0.3983 - val_sparse_categorical_accuracy: 0.8572\n",
      "Epoch 5/30\n",
      "1719/1719 [==============================] - 5s 3ms/step - loss: 0.3958 - sparse_categorical_accuracy: 0.8611 - val_loss: 0.3911 - val_sparse_categorical_accuracy: 0.8608\n",
      "Epoch 6/30\n",
      "1719/1719 [==============================] - 5s 3ms/step - loss: 0.3790 - sparse_categorical_accuracy: 0.8660 - val_loss: 0.3953 - val_sparse_categorical_accuracy: 0.8610\n",
      "Epoch 7/30\n",
      "1719/1719 [==============================] - 5s 3ms/step - loss: 0.3663 - sparse_categorical_accuracy: 0.8699 - val_loss: 0.3700 - val_sparse_categorical_accuracy: 0.8698\n",
      "Epoch 8/30\n",
      "1719/1719 [==============================] - 5s 3ms/step - loss: 0.3545 - sparse_categorical_accuracy: 0.8738 - val_loss: 0.3736 - val_sparse_categorical_accuracy: 0.8646\n",
      "Epoch 9/30\n",
      "1719/1719 [==============================] - 5s 3ms/step - loss: 0.3435 - sparse_categorical_accuracy: 0.8787 - val_loss: 0.3492 - val_sparse_categorical_accuracy: 0.8740\n",
      "Epoch 10/30\n",
      "1719/1719 [==============================] - 5s 3ms/step - loss: 0.3335 - sparse_categorical_accuracy: 0.8810 - val_loss: 0.3465 - val_sparse_categorical_accuracy: 0.8740\n",
      "Epoch 11/30\n",
      "1719/1719 [==============================] - 4s 2ms/step - loss: 0.3248 - sparse_categorical_accuracy: 0.8844 - val_loss: 0.3709 - val_sparse_categorical_accuracy: 0.8636\n",
      "Epoch 12/30\n",
      "1719/1719 [==============================] - 4s 2ms/step - loss: 0.3168 - sparse_categorical_accuracy: 0.8865 - val_loss: 0.3497 - val_sparse_categorical_accuracy: 0.8722\n",
      "Epoch 13/30\n",
      "1719/1719 [==============================] - 5s 3ms/step - loss: 0.3090 - sparse_categorical_accuracy: 0.8901 - val_loss: 0.3298 - val_sparse_categorical_accuracy: 0.8798\n",
      "Epoch 14/30\n",
      "1719/1719 [==============================] - 5s 3ms/step - loss: 0.3017 - sparse_categorical_accuracy: 0.8918 - val_loss: 0.3371 - val_sparse_categorical_accuracy: 0.8804\n",
      "Epoch 15/30\n",
      "1719/1719 [==============================] - 7s 4ms/step - loss: 0.2956 - sparse_categorical_accuracy: 0.8941 - val_loss: 0.3338 - val_sparse_categorical_accuracy: 0.8814\n",
      "Epoch 16/30\n",
      "1719/1719 [==============================] - 5s 3ms/step - loss: 0.2885 - sparse_categorical_accuracy: 0.8963 - val_loss: 0.3287 - val_sparse_categorical_accuracy: 0.8802\n",
      "Epoch 17/30\n",
      "1719/1719 [==============================] - 4s 2ms/step - loss: 0.2831 - sparse_categorical_accuracy: 0.8971 - val_loss: 0.3346 - val_sparse_categorical_accuracy: 0.8774\n",
      "Epoch 18/30\n",
      "1719/1719 [==============================] - 4s 2ms/step - loss: 0.2776 - sparse_categorical_accuracy: 0.8993 - val_loss: 0.3265 - val_sparse_categorical_accuracy: 0.8822\n",
      "Epoch 19/30\n",
      "1719/1719 [==============================] - 5s 3ms/step - loss: 0.2722 - sparse_categorical_accuracy: 0.9024 - val_loss: 0.3483 - val_sparse_categorical_accuracy: 0.8698\n",
      "Epoch 20/30\n",
      "1719/1719 [==============================] - 5s 3ms/step - loss: 0.2669 - sparse_categorical_accuracy: 0.9041 - val_loss: 0.3189 - val_sparse_categorical_accuracy: 0.8816\n",
      "Epoch 21/30\n",
      "1719/1719 [==============================] - 4s 3ms/step - loss: 0.2621 - sparse_categorical_accuracy: 0.9052 - val_loss: 0.3177 - val_sparse_categorical_accuracy: 0.8830\n",
      "Epoch 22/30\n",
      "1719/1719 [==============================] - 4s 2ms/step - loss: 0.2565 - sparse_categorical_accuracy: 0.9064 - val_loss: 0.3161 - val_sparse_categorical_accuracy: 0.8850\n",
      "Epoch 23/30\n",
      "1719/1719 [==============================] - 4s 2ms/step - loss: 0.2521 - sparse_categorical_accuracy: 0.9093 - val_loss: 0.3397 - val_sparse_categorical_accuracy: 0.8762\n",
      "Epoch 24/30\n",
      "1719/1719 [==============================] - 4s 2ms/step - loss: 0.2476 - sparse_categorical_accuracy: 0.9109 - val_loss: 0.3231 - val_sparse_categorical_accuracy: 0.8822\n",
      "Epoch 25/30\n",
      "1719/1719 [==============================] - 4s 2ms/step - loss: 0.2434 - sparse_categorical_accuracy: 0.9119 - val_loss: 0.3196 - val_sparse_categorical_accuracy: 0.8866\n",
      "Epoch 26/30\n",
      "1719/1719 [==============================] - 5s 3ms/step - loss: 0.2397 - sparse_categorical_accuracy: 0.9144 - val_loss: 0.3159 - val_sparse_categorical_accuracy: 0.8830\n",
      "Epoch 27/30\n",
      "1719/1719 [==============================] - 5s 3ms/step - loss: 0.2346 - sparse_categorical_accuracy: 0.9144 - val_loss: 0.3192 - val_sparse_categorical_accuracy: 0.8874\n",
      "Epoch 28/30\n",
      "1719/1719 [==============================] - 5s 3ms/step - loss: 0.2313 - sparse_categorical_accuracy: 0.9165 - val_loss: 0.3122 - val_sparse_categorical_accuracy: 0.8896\n",
      "Epoch 29/30\n",
      "1719/1719 [==============================] - 5s 3ms/step - loss: 0.2279 - sparse_categorical_accuracy: 0.9181 - val_loss: 0.3223 - val_sparse_categorical_accuracy: 0.8844\n",
      "Epoch 30/30\n",
      "1719/1719 [==============================] - 5s 3ms/step - loss: 0.2241 - sparse_categorical_accuracy: 0.9195 - val_loss: 0.3088 - val_sparse_categorical_accuracy: 0.8890\n"
     ]
    }
   ],
   "source": [
    "history = model.fit(X_train, y_train, epochs=30,\n",
    "                    validation_data=(X_valid, y_valid))"
   ]
  },
  {
   "cell_type": "code",
   "execution_count": 39,
   "metadata": {},
   "outputs": [
    {
     "data": {
      "text/plain": [
       "{'verbose': 1, 'epochs': 30, 'steps': 1719}"
      ]
     },
     "execution_count": 39,
     "metadata": {},
     "output_type": "execute_result"
    }
   ],
   "source": [
    "history.params"
   ]
  },
  {
   "cell_type": "code",
   "execution_count": 40,
   "metadata": {},
   "outputs": [
    {
     "name": "stdout",
     "output_type": "stream",
     "text": [
      "[0, 1, 2, 3, 4, 5, 6, 7, 8, 9, 10, 11, 12, 13, 14, 15, 16, 17, 18, 19, 20, 21, 22, 23, 24, 25, 26, 27, 28, 29]\n"
     ]
    }
   ],
   "source": [
    "print(history.epoch)"
   ]
  },
  {
   "cell_type": "code",
   "execution_count": 41,
   "metadata": {},
   "outputs": [
    {
     "data": {
      "image/png": "[encoded data removed]",
      "text/plain": [
       "<Figure size 800x500 with 1 Axes>"
      ]
     },
     "metadata": {},
     "output_type": "display_data"
    }
   ],
   "source": [
    "import matplotlib.pyplot as plt\n",
    "import pandas as pd\n",
    "\n",
    "pd.DataFrame(history.history).plot(\n",
    "    figsize=(8, 5), xlim=[0, 29], ylim=[0, 1], grid=True, xlabel=\"Epoch\",\n",
    "    style=[\"r--\", \"r--.\", \"b-\", \"b-*\"])\n",
    "plt.legend(loc=\"lower left\")  # extra code\n",
    "save_fig(\"keras_learning_curves_plot\")  # extra code\n",
    "plt.show()"
   ]
  },
  {
   "cell_type": "code",
   "execution_count": 42,
   "metadata": {},
   "outputs": [
    {
     "data": {
      "image/png": "[encoded data removed]",
      "text/plain": [
       "<Figure size 800x500 with 1 Axes>"
      ]
     },
     "metadata": {},
     "output_type": "display_data"
    }
   ],
   "source": [
    "# extra code – shows how to shift the training curve by -1/2 epoch\n",
    "plt.figure(figsize=(8, 5))\n",
    "for key, style in zip(history.history, [\"r--\", \"r--.\", \"b-\", \"b-*\"]):\n",
    "    epochs = np.array(history.epoch) + (0 if key.startswith(\"val_\") else -0.5)\n",
    "    plt.plot(epochs, history.history[key], style, label=key)\n",
    "plt.xlabel(\"Epoch\")\n",
    "plt.axis([-0.5, 29, 0., 1])\n",
    "plt.legend(loc=\"lower left\")\n",
    "plt.grid()\n",
    "plt.show()"
   ]
  },
  {
   "cell_type": "code",
   "execution_count": 43,
   "metadata": {},
   "outputs": [
    {
     "name": "stdout",
     "output_type": "stream",
     "text": [
      " 65/313 [=====>........................] - ETA: 0s - loss: 0.3154 - sparse_categorical_accuracy: 0.8870"
     ]
    },
    {
     "name": "stderr",
     "output_type": "stream",
     "text": [
      "2024-01-18 19:33:20.380748: W tensorflow/core/framework/cpu_allocator_impl.cc:82] Allocation of 31360000 exceeds 10% of free system memory.\n"
     ]
    },
    {
     "name": "stdout",
     "output_type": "stream",
     "text": [
      "313/313 [==============================] - 1s 2ms/step - loss: 0.3237 - sparse_categorical_accuracy: 0.8854\n"
     ]
    },
    {
     "data": {
      "text/plain": [
       "[0.3236737549304962, 0.8853999972343445]"
      ]
     },
     "execution_count": 43,
     "metadata": {},
     "output_type": "execute_result"
    }
   ],
   "source": [
    "model.evaluate(X_test, y_test)"
   ]
  },
  {
   "cell_type": "markdown",
   "metadata": {},
   "source": [
    "### Usando o modelo para fazer previsões"
   ]
  },
  {
   "cell_type": "code",
   "execution_count": 44,
   "metadata": {},
   "outputs": [
    {
     "name": "stdout",
     "output_type": "stream",
     "text": [
      "1/1 [==============================] - 0s 98ms/step\n"
     ]
    },
    {
     "data": {
      "text/plain": [
       "array([[0.  , 0.  , 0.  , 0.  , 0.  , 0.01, 0.  , 0.01, 0.  , 0.97],\n",
       "       [0.  , 0.  , 1.  , 0.  , 0.  , 0.  , 0.  , 0.  , 0.  , 0.  ],\n",
       "       [0.  , 1.  , 0.  , 0.  , 0.  , 0.  , 0.  , 0.  , 0.  , 0.  ]],\n",
       "      dtype=float32)"
      ]
     },
     "execution_count": 44,
     "metadata": {},
     "output_type": "execute_result"
    }
   ],
   "source": [
    "X_new = X_test[:3]\n",
    "y_proba = model.predict(X_new)\n",
    "y_proba.round(2)"
   ]
  },
  {
   "cell_type": "code",
   "execution_count": 45,
   "metadata": {},
   "outputs": [
    {
     "data": {
      "text/plain": [
       "array([9, 2, 1])"
      ]
     },
     "execution_count": 45,
     "metadata": {},
     "output_type": "execute_result"
    }
   ],
   "source": [
    "y_pred = y_proba.argmax(axis=-1)\n",
    "y_pred"
   ]
  },
  {
   "cell_type": "code",
   "execution_count": 46,
   "metadata": {},
   "outputs": [
    {
     "data": {
      "text/plain": [
       "array(['Ankle boot', 'Pullover', 'Trouser'], dtype='<U11')"
      ]
     },
     "execution_count": 46,
     "metadata": {},
     "output_type": "execute_result"
    }
   ],
   "source": [
    "np.array(class_names)[y_pred]"
   ]
  },
  {
   "cell_type": "code",
   "execution_count": 47,
   "metadata": {},
   "outputs": [
    {
     "data": {
      "text/plain": [
       "array([9, 2, 1], dtype=uint8)"
      ]
     },
     "execution_count": 47,
     "metadata": {},
     "output_type": "execute_result"
    }
   ],
   "source": [
    "y_new = y_test[:3]\n",
    "y_new"
   ]
  },
  {
   "cell_type": "code",
   "execution_count": 48,
   "metadata": {},
   "outputs": [
    {
     "data": {
      "image/png": "[encoded data removed]",
      "text/plain": [
       "<Figure size 720x240 with 3 Axes>"
      ]
     },
     "metadata": {},
     "output_type": "display_data"
    }
   ],
   "source": [
    "# extra code – this cell generates and saves Figure 10–12\n",
    "plt.figure(figsize=(7.2, 2.4))\n",
    "for index, image in enumerate(X_new):\n",
    "    plt.subplot(1, 3, index + 1)\n",
    "    plt.imshow(image, cmap=\"binary\", interpolation=\"nearest\")\n",
    "    plt.axis('off')\n",
    "    plt.title(class_names[y_test[index]])\n",
    "plt.subplots_adjust(wspace=0.2, hspace=0.5)\n",
    "save_fig('fashion_mnist_images_plot', tight_layout=False)\n",
    "plt.show()"
   ]
  },
  {
   "cell_type": "markdown",
   "metadata": {},
   "source": [
    "## Construindo um MLP de regressão usando a API sequencial"
   ]
  },
  {
   "cell_type": "markdown",
   "metadata": {},
   "source": [
    "Vamos carregar, dividir e escalar o conjunto de dados da California Housing (o original, não o modificado como no capítulo 2):"
   ]
  },
  {
   "cell_type": "code",
   "execution_count": 49,
   "metadata": {},
   "outputs": [],
   "source": [
    "# extra code – load and split the California housing dataset, like earlier\n",
    "housing = fetch_california_housing()\n",
    "X_train_full, X_test, y_train_full, y_test = train_test_split(\n",
    "    housing.data, housing.target, random_state=42)\n",
    "X_train, X_valid, y_train, y_valid = train_test_split(\n",
    "    X_train_full, y_train_full, random_state=42)"
   ]
  },
  {
   "cell_type": "code",
   "execution_count": 50,
   "metadata": {},
   "outputs": [
    {
     "name": "stdout",
     "output_type": "stream",
     "text": [
      "Epoch 1/20\n",
      "363/363 [==============================] - 1s 2ms/step - loss: 0.9241 - root_mean_squared_error: 0.9613 - val_loss: 0.5071 - val_root_mean_squared_error: 0.7121\n",
      "Epoch 2/20\n",
      "363/363 [==============================] - 1s 2ms/step - loss: 0.3815 - root_mean_squared_error: 0.6177 - val_loss: 1.0458 - val_root_mean_squared_error: 1.0227\n",
      "Epoch 3/20\n",
      "363/363 [==============================] - 1s 2ms/step - loss: 0.3645 - root_mean_squared_error: 0.6038 - val_loss: 0.4667 - val_root_mean_squared_error: 0.6832\n",
      "Epoch 4/20\n",
      "363/363 [==============================] - 1s 3ms/step - loss: 0.3477 - root_mean_squared_error: 0.5897 - val_loss: 0.8464 - val_root_mean_squared_error: 0.9200\n",
      "Epoch 5/20\n",
      "363/363 [==============================] - 1s 2ms/step - loss: 0.3319 - root_mean_squared_error: 0.5761 - val_loss: 0.4966 - val_root_mean_squared_error: 0.7047\n",
      "Epoch 6/20\n",
      "363/363 [==============================] - 1s 2ms/step - loss: 0.3324 - root_mean_squared_error: 0.5765 - val_loss: 0.8457 - val_root_mean_squared_error: 0.9196\n",
      "Epoch 7/20\n",
      "363/363 [==============================] - 1s 2ms/step - loss: 0.3196 - root_mean_squared_error: 0.5653 - val_loss: 1.5144 - val_root_mean_squared_error: 1.2306\n",
      "Epoch 8/20\n",
      "363/363 [==============================] - 1s 2ms/step - loss: 0.3124 - root_mean_squared_error: 0.5589 - val_loss: 3.6277 - val_root_mean_squared_error: 1.9047\n",
      "Epoch 9/20\n",
      "363/363 [==============================] - 1s 2ms/step - loss: 0.3136 - root_mean_squared_error: 0.5600 - val_loss: 2.2509 - val_root_mean_squared_error: 1.5003\n",
      "Epoch 10/20\n",
      "363/363 [==============================] - 1s 2ms/step - loss: 0.3180 - root_mean_squared_error: 0.5639 - val_loss: 0.2926 - val_root_mean_squared_error: 0.5409\n",
      "Epoch 11/20\n",
      "363/363 [==============================] - 1s 3ms/step - loss: 0.2924 - root_mean_squared_error: 0.5408 - val_loss: 0.7667 - val_root_mean_squared_error: 0.8756\n",
      "Epoch 12/20\n",
      "363/363 [==============================] - 1s 2ms/step - loss: 0.3070 - root_mean_squared_error: 0.5541 - val_loss: 0.7295 - val_root_mean_squared_error: 0.8541\n",
      "Epoch 13/20\n",
      "363/363 [==============================] - 1s 2ms/step - loss: 0.2897 - root_mean_squared_error: 0.5383 - val_loss: 0.2920 - val_root_mean_squared_error: 0.5404\n",
      "Epoch 14/20\n",
      "363/363 [==============================] - 1s 2ms/step - loss: 0.2859 - root_mean_squared_error: 0.5347 - val_loss: 0.3965 - val_root_mean_squared_error: 0.6297\n",
      "Epoch 15/20\n",
      "363/363 [==============================] - 1s 2ms/step - loss: 0.2825 - root_mean_squared_error: 0.5315 - val_loss: 0.2800 - val_root_mean_squared_error: 0.5292\n",
      "Epoch 16/20\n",
      "363/363 [==============================] - 1s 3ms/step - loss: 0.2815 - root_mean_squared_error: 0.5306 - val_loss: 0.2810 - val_root_mean_squared_error: 0.5301\n",
      "Epoch 17/20\n",
      "363/363 [==============================] - 1s 2ms/step - loss: 0.2778 - root_mean_squared_error: 0.5271 - val_loss: 0.3248 - val_root_mean_squared_error: 0.5699\n",
      "Epoch 18/20\n",
      "363/363 [==============================] - 1s 2ms/step - loss: 0.2727 - root_mean_squared_error: 0.5222 - val_loss: 0.2874 - val_root_mean_squared_error: 0.5361\n",
      "Epoch 19/20\n",
      "363/363 [==============================] - 1s 2ms/step - loss: 0.2709 - root_mean_squared_error: 0.5205 - val_loss: 0.3623 - val_root_mean_squared_error: 0.6019\n",
      "Epoch 20/20\n",
      "363/363 [==============================] - 1s 2ms/step - loss: 0.2729 - root_mean_squared_error: 0.5224 - val_loss: 0.2664 - val_root_mean_squared_error: 0.5161\n",
      "162/162 [==============================] - 0s 1ms/step - loss: 0.2823 - root_mean_squared_error: 0.5313\n",
      "1/1 [==============================] - 0s 80ms/step\n"
     ]
    }
   ],
   "source": [
    "tf.random.set_seed(42)\n",
    "norm_layer = tf.keras.layers.Normalization(input_shape=X_train.shape[1:])\n",
    "model = tf.keras.Sequential([\n",
    "    norm_layer,\n",
    "    tf.keras.layers.Dense(50, activation=\"relu\"),\n",
    "    tf.keras.layers.Dense(50, activation=\"relu\"),\n",
    "    tf.keras.layers.Dense(50, activation=\"relu\"),\n",
    "    tf.keras.layers.Dense(1)\n",
    "])\n",
    "optimizer = tf.keras.optimizers.Adam(learning_rate=1e-3)\n",
    "model.compile(loss=\"mse\", optimizer=optimizer, metrics=[\"RootMeanSquaredError\"])\n",
    "norm_layer.adapt(X_train)\n",
    "history = model.fit(X_train, y_train, epochs=20,\n",
    "                    validation_data=(X_valid, y_valid))\n",
    "mse_test, rmse_test = model.evaluate(X_test, y_test)\n",
    "X_new = X_test[:3]\n",
    "y_pred = model.predict(X_new)"
   ]
  },
  {
   "cell_type": "code",
   "execution_count": 51,
   "metadata": {},
   "outputs": [
    {
     "data": {
      "text/plain": [
       "0.5313032865524292"
      ]
     },
     "execution_count": 51,
     "metadata": {},
     "output_type": "execute_result"
    }
   ],
   "source": [
    "rmse_test"
   ]
  },
  {
   "cell_type": "code",
   "execution_count": 52,
   "metadata": {},
   "outputs": [
    {
     "data": {
      "text/plain": [
       "array([[0.5054533],\n",
       "       [1.1683892],\n",
       "       [4.7756925]], dtype=float32)"
      ]
     },
     "execution_count": 52,
     "metadata": {},
     "output_type": "execute_result"
    }
   ],
   "source": [
    "y_pred"
   ]
  },
  {
   "cell_type": "markdown",
   "metadata": {},
   "source": [
    "## Construindo modelos complexos usando a API funcional"
   ]
  },
  {
   "cell_type": "markdown",
   "metadata": {},
   "source": [
    "Nem todos os modelos de rede neural são simplesmente sequenciais.Alguns podem ter topologias complexas.Alguns podem ter várias entradas e/ou várias saídas.Por exemplo, uma rede neural ampla e profunda (consulte [Paper](https://ai.google/research/pubs/pub45413)) conecta tudo ou parte das entradas diretamente à camada de saída."
   ]
  },
  {
   "cell_type": "code",
   "execution_count": 53,
   "metadata": {},
   "outputs": [],
   "source": [
    "# extra code – reset the name counters and make the code reproducible\n",
    "tf.keras.backend.clear_session()\n",
    "tf.random.set_seed(42)"
   ]
  },
  {
   "cell_type": "code",
   "execution_count": 54,
   "metadata": {},
   "outputs": [],
   "source": [
    "normalization_layer = tf.keras.layers.Normalization()\n",
    "hidden_layer1 = tf.keras.layers.Dense(30, activation=\"relu\")\n",
    "hidden_layer2 = tf.keras.layers.Dense(30, activation=\"relu\")\n",
    "concat_layer = tf.keras.layers.Concatenate()\n",
    "output_layer = tf.keras.layers.Dense(1)\n",
    "\n",
    "input_ = tf.keras.layers.Input(shape=X_train.shape[1:])\n",
    "normalized = normalization_layer(input_)\n",
    "hidden1 = hidden_layer1(normalized)\n",
    "hidden2 = hidden_layer2(hidden1)\n",
    "concat = concat_layer([normalized, hidden2])\n",
    "output = output_layer(concat)\n",
    "\n",
    "model = tf.keras.Model(inputs=[input_], outputs=[output])"
   ]
  },
  {
   "cell_type": "code",
   "execution_count": 55,
   "metadata": {},
   "outputs": [
    {
     "name": "stdout",
     "output_type": "stream",
     "text": [
      "Model: \"model\"\n",
      "__________________________________________________________________________________________________\n",
      " Layer (type)                   Output Shape         Param #     Connected to                     \n",
      "==================================================================================================\n",
      " input_1 (InputLayer)           [(None, 8)]          0           []                               \n",
      "                                                                                                  \n",
      " normalization (Normalization)  (None, 8)            17          ['input_1[0][0]']                \n",
      "                                                                                                  \n",
      " dense (Dense)                  (None, 30)           270         ['normalization[0][0]']          \n",
      "                                                                                                  \n",
      " dense_1 (Dense)                (None, 30)           930         ['dense[0][0]']                  \n",
      "                                                                                                  \n",
      " concatenate (Concatenate)      (None, 38)           0           ['normalization[0][0]',          \n",
      "                                                                  'dense_1[0][0]']                \n",
      "                                                                                                  \n",
      " dense_2 (Dense)                (None, 1)            39          ['concatenate[0][0]']            \n",
      "                                                                                                  \n",
      "==================================================================================================\n",
      "Total params: 1,256\n",
      "Trainable params: 1,239\n",
      "Non-trainable params: 17\n",
      "__________________________________________________________________________________________________\n"
     ]
    }
   ],
   "source": [
    "model.summary()"
   ]
  },
  {
   "cell_type": "code",
   "execution_count": 56,
   "metadata": {},
   "outputs": [
    {
     "name": "stdout",
     "output_type": "stream",
     "text": [
      "Epoch 1/20\n",
      "363/363 [==============================] - 1s 2ms/step - loss: 1.1140 - root_mean_squared_error: 1.0555 - val_loss: 1.0148 - val_root_mean_squared_error: 1.0074\n",
      "Epoch 2/20\n",
      "363/363 [==============================] - 1s 2ms/step - loss: 0.4310 - root_mean_squared_error: 0.6565 - val_loss: 0.7355 - val_root_mean_squared_error: 0.8576\n",
      "Epoch 3/20\n",
      "363/363 [==============================] - 1s 2ms/step - loss: 0.3886 - root_mean_squared_error: 0.6234 - val_loss: 0.5290 - val_root_mean_squared_error: 0.7273\n",
      "Epoch 4/20\n",
      "363/363 [==============================] - 1s 2ms/step - loss: 0.3711 - root_mean_squared_error: 0.6092 - val_loss: 0.3690 - val_root_mean_squared_error: 0.6075\n",
      "Epoch 5/20\n",
      "363/363 [==============================] - 1s 2ms/step - loss: 0.3601 - root_mean_squared_error: 0.6001 - val_loss: 0.3474 - val_root_mean_squared_error: 0.5894\n",
      "Epoch 6/20\n",
      "363/363 [==============================] - 1s 2ms/step - loss: 0.3490 - root_mean_squared_error: 0.5907 - val_loss: 0.8513 - val_root_mean_squared_error: 0.9226\n",
      "Epoch 7/20\n",
      "363/363 [==============================] - 1s 2ms/step - loss: 0.3454 - root_mean_squared_error: 0.5877 - val_loss: 0.6134 - val_root_mean_squared_error: 0.7832\n",
      "Epoch 8/20\n",
      "363/363 [==============================] - 1s 2ms/step - loss: 0.3352 - root_mean_squared_error: 0.5789 - val_loss: 1.4324 - val_root_mean_squared_error: 1.1968\n",
      "Epoch 9/20\n",
      "363/363 [==============================] - 1s 2ms/step - loss: 0.3349 - root_mean_squared_error: 0.5787 - val_loss: 1.5761 - val_root_mean_squared_error: 1.2554\n",
      "Epoch 10/20\n",
      "363/363 [==============================] - 1s 2ms/step - loss: 0.3396 - root_mean_squared_error: 0.5827 - val_loss: 0.8782 - val_root_mean_squared_error: 0.9371\n",
      "Epoch 11/20\n",
      "363/363 [==============================] - 1s 2ms/step - loss: 0.3205 - root_mean_squared_error: 0.5661 - val_loss: 0.3020 - val_root_mean_squared_error: 0.5496\n",
      "Epoch 12/20\n",
      "363/363 [==============================] - 1s 2ms/step - loss: 0.3201 - root_mean_squared_error: 0.5658 - val_loss: 0.7699 - val_root_mean_squared_error: 0.8774\n",
      "Epoch 13/20\n",
      "363/363 [==============================] - 1s 2ms/step - loss: 0.3157 - root_mean_squared_error: 0.5618 - val_loss: 0.3437 - val_root_mean_squared_error: 0.5863\n",
      "Epoch 14/20\n",
      "363/363 [==============================] - 1s 2ms/step - loss: 0.3108 - root_mean_squared_error: 0.5575 - val_loss: 0.5583 - val_root_mean_squared_error: 0.7472\n",
      "Epoch 15/20\n",
      "363/363 [==============================] - 1s 2ms/step - loss: 0.3098 - root_mean_squared_error: 0.5566 - val_loss: 0.4486 - val_root_mean_squared_error: 0.6698\n",
      "Epoch 16/20\n",
      "363/363 [==============================] - 1s 2ms/step - loss: 0.3062 - root_mean_squared_error: 0.5533 - val_loss: 0.4923 - val_root_mean_squared_error: 0.7016\n",
      "Epoch 17/20\n",
      "363/363 [==============================] - 1s 2ms/step - loss: 0.3056 - root_mean_squared_error: 0.5528 - val_loss: 0.3598 - val_root_mean_squared_error: 0.5998\n",
      "Epoch 18/20\n",
      "363/363 [==============================] - 1s 2ms/step - loss: 0.3004 - root_mean_squared_error: 0.5481 - val_loss: 1.7501 - val_root_mean_squared_error: 1.3229\n",
      "Epoch 19/20\n",
      "363/363 [==============================] - 1s 2ms/step - loss: 0.3030 - root_mean_squared_error: 0.5504 - val_loss: 0.8747 - val_root_mean_squared_error: 0.9352\n",
      "Epoch 20/20\n",
      "363/363 [==============================] - 1s 2ms/step - loss: 0.3104 - root_mean_squared_error: 0.5571 - val_loss: 1.0500 - val_root_mean_squared_error: 1.0247\n",
      "162/162 [==============================] - 0s 1ms/step - loss: 0.3024 - root_mean_squared_error: 0.5499\n",
      "1/1 [==============================] - 0s 57ms/step\n"
     ]
    }
   ],
   "source": [
    "optimizer = tf.keras.optimizers.Adam(learning_rate=1e-3)\n",
    "model.compile(loss=\"mse\", optimizer=optimizer, metrics=[\"RootMeanSquaredError\"])\n",
    "normalization_layer.adapt(X_train)\n",
    "history = model.fit(X_train, y_train, epochs=20,\n",
    "                    validation_data=(X_valid, y_valid))\n",
    "mse_test = model.evaluate(X_test, y_test)\n",
    "y_pred = model.predict(X_new)"
   ]
  },
  {
   "cell_type": "markdown",
   "metadata": {},
   "source": [
    "E se você quiser enviar diferentes subconjuntos de recursos de entrada através dos caminhos amplos ou profundos?Enviaremos 5 recursos (recursos de 0 a 4) e 6 através do caminho profundo (apresenta 2 a 7).Observe que 3 recursos passarão por ambos (recursos 2, 3 e 4)."
   ]
  },
  {
   "cell_type": "code",
   "execution_count": 57,
   "metadata": {},
   "outputs": [],
   "source": [
    "tf.random.set_seed(42)  # extra code"
   ]
  },
  {
   "cell_type": "code",
   "execution_count": 58,
   "metadata": {},
   "outputs": [],
   "source": [
    "input_wide = tf.keras.layers.Input(shape=[5])  # features 0 to 4\n",
    "input_deep = tf.keras.layers.Input(shape=[6])  # features 2 to 7\n",
    "norm_layer_wide = tf.keras.layers.Normalization()\n",
    "norm_layer_deep = tf.keras.layers.Normalization()\n",
    "norm_wide = norm_layer_wide(input_wide)\n",
    "norm_deep = norm_layer_deep(input_deep)\n",
    "hidden1 = tf.keras.layers.Dense(30, activation=\"relu\")(norm_deep)\n",
    "hidden2 = tf.keras.layers.Dense(30, activation=\"relu\")(hidden1)\n",
    "concat = tf.keras.layers.concatenate([norm_wide, hidden2])\n",
    "output = tf.keras.layers.Dense(1)(concat)\n",
    "model = tf.keras.Model(inputs=[input_wide, input_deep], outputs=[output])"
   ]
  },
  {
   "cell_type": "code",
   "execution_count": 59,
   "metadata": {},
   "outputs": [
    {
     "name": "stdout",
     "output_type": "stream",
     "text": [
      "Epoch 1/20\n",
      "363/363 [==============================] - 1s 2ms/step - loss: 2.0144 - root_mean_squared_error: 1.4193 - val_loss: 0.7132 - val_root_mean_squared_error: 0.8445\n",
      "Epoch 2/20\n",
      "363/363 [==============================] - 1s 2ms/step - loss: 0.6201 - root_mean_squared_error: 0.7875 - val_loss: 0.9793 - val_root_mean_squared_error: 0.9896\n",
      "Epoch 3/20\n",
      "363/363 [==============================] - 1s 2ms/step - loss: 0.5061 - root_mean_squared_error: 0.7114 - val_loss: 0.4642 - val_root_mean_squared_error: 0.6813\n",
      "Epoch 4/20\n",
      "363/363 [==============================] - 1s 2ms/step - loss: 0.4381 - root_mean_squared_error: 0.6619 - val_loss: 0.4784 - val_root_mean_squared_error: 0.6916\n",
      "Epoch 5/20\n",
      "363/363 [==============================] - 1s 2ms/step - loss: 0.3930 - root_mean_squared_error: 0.6269 - val_loss: 0.3763 - val_root_mean_squared_error: 0.6134\n",
      "Epoch 6/20\n",
      "363/363 [==============================] - 1s 2ms/step - loss: 0.3692 - root_mean_squared_error: 0.6076 - val_loss: 0.3432 - val_root_mean_squared_error: 0.5858\n",
      "Epoch 7/20\n",
      "363/363 [==============================] - 1s 2ms/step - loss: 0.3575 - root_mean_squared_error: 0.5979 - val_loss: 0.5490 - val_root_mean_squared_error: 0.7410\n",
      "Epoch 8/20\n",
      "363/363 [==============================] - 1s 3ms/step - loss: 0.3488 - root_mean_squared_error: 0.5906 - val_loss: 2.5925 - val_root_mean_squared_error: 1.6101\n",
      "Epoch 9/20\n",
      "363/363 [==============================] - 1s 2ms/step - loss: 0.3504 - root_mean_squared_error: 0.5920 - val_loss: 3.6478 - val_root_mean_squared_error: 1.9099\n",
      "Epoch 10/20\n",
      "363/363 [==============================] - 1s 2ms/step - loss: 0.3688 - root_mean_squared_error: 0.6073 - val_loss: 1.7581 - val_root_mean_squared_error: 1.3260\n",
      "Epoch 11/20\n",
      "363/363 [==============================] - 1s 3ms/step - loss: 0.3454 - root_mean_squared_error: 0.5877 - val_loss: 0.3470 - val_root_mean_squared_error: 0.5891\n",
      "Epoch 12/20\n",
      "363/363 [==============================] - 1s 2ms/step - loss: 0.3422 - root_mean_squared_error: 0.5850 - val_loss: 0.5605 - val_root_mean_squared_error: 0.7487\n",
      "Epoch 13/20\n",
      "363/363 [==============================] - 1s 2ms/step - loss: 0.3348 - root_mean_squared_error: 0.5786 - val_loss: 0.3829 - val_root_mean_squared_error: 0.6188\n",
      "Epoch 14/20\n",
      "363/363 [==============================] - 1s 2ms/step - loss: 0.3310 - root_mean_squared_error: 0.5753 - val_loss: 0.3553 - val_root_mean_squared_error: 0.5961\n",
      "Epoch 15/20\n",
      "363/363 [==============================] - 1s 2ms/step - loss: 0.3299 - root_mean_squared_error: 0.5744 - val_loss: 0.3160 - val_root_mean_squared_error: 0.5621\n",
      "Epoch 16/20\n",
      "363/363 [==============================] - 1s 2ms/step - loss: 0.3277 - root_mean_squared_error: 0.5725 - val_loss: 1.1143 - val_root_mean_squared_error: 1.0556\n",
      "Epoch 17/20\n",
      "363/363 [==============================] - 1s 2ms/step - loss: 0.3337 - root_mean_squared_error: 0.5776 - val_loss: 2.0582 - val_root_mean_squared_error: 1.4346\n",
      "Epoch 18/20\n",
      "363/363 [==============================] - 1s 2ms/step - loss: 0.3342 - root_mean_squared_error: 0.5781 - val_loss: 1.2905 - val_root_mean_squared_error: 1.1360\n",
      "Epoch 19/20\n",
      "363/363 [==============================] - 1s 2ms/step - loss: 0.3305 - root_mean_squared_error: 0.5749 - val_loss: 1.6534 - val_root_mean_squared_error: 1.2859\n",
      "Epoch 20/20\n",
      "363/363 [==============================] - 1s 2ms/step - loss: 0.3348 - root_mean_squared_error: 0.5786 - val_loss: 0.9121 - val_root_mean_squared_error: 0.9550\n",
      "162/162 [==============================] - 0s 1ms/step - loss: 0.3241 - root_mean_squared_error: 0.5693\n",
      "1/1 [==============================] - 0s 64ms/step\n"
     ]
    }
   ],
   "source": [
    "optimizer = tf.keras.optimizers.Adam(learning_rate=1e-3)\n",
    "model.compile(loss=\"mse\", optimizer=optimizer, metrics=[\"RootMeanSquaredError\"])\n",
    "\n",
    "X_train_wide, X_train_deep = X_train[:, :5], X_train[:, 2:]\n",
    "X_valid_wide, X_valid_deep = X_valid[:, :5], X_valid[:, 2:]\n",
    "X_test_wide, X_test_deep = X_test[:, :5], X_test[:, 2:]\n",
    "X_new_wide, X_new_deep = X_test_wide[:3], X_test_deep[:3]\n",
    "\n",
    "norm_layer_wide.adapt(X_train_wide)\n",
    "norm_layer_deep.adapt(X_train_deep)\n",
    "history = model.fit((X_train_wide, X_train_deep), y_train, epochs=20,\n",
    "                    validation_data=((X_valid_wide, X_valid_deep), y_valid))\n",
    "mse_test = model.evaluate((X_test_wide, X_test_deep), y_test)\n",
    "y_pred = model.predict((X_new_wide, X_new_deep))"
   ]
  },
  {
   "cell_type": "markdown",
   "metadata": {},
   "source": [
    "Adicionando uma saída auxiliar para regularização:"
   ]
  },
  {
   "cell_type": "code",
   "execution_count": 60,
   "metadata": {},
   "outputs": [],
   "source": [
    "tf.keras.backend.clear_session()\n",
    "tf.random.set_seed(42)"
   ]
  },
  {
   "cell_type": "code",
   "execution_count": 61,
   "metadata": {},
   "outputs": [],
   "source": [
    "input_wide = tf.keras.layers.Input(shape=[5])  # features 0 to 4\n",
    "input_deep = tf.keras.layers.Input(shape=[6])  # features 2 to 7\n",
    "norm_layer_wide = tf.keras.layers.Normalization()\n",
    "norm_layer_deep = tf.keras.layers.Normalization()\n",
    "norm_wide = norm_layer_wide(input_wide)\n",
    "norm_deep = norm_layer_deep(input_deep)\n",
    "hidden1 = tf.keras.layers.Dense(30, activation=\"relu\")(norm_deep)\n",
    "hidden2 = tf.keras.layers.Dense(30, activation=\"relu\")(hidden1)\n",
    "concat = tf.keras.layers.concatenate([norm_wide, hidden2])\n",
    "output = tf.keras.layers.Dense(1)(concat)\n",
    "aux_output = tf.keras.layers.Dense(1)(hidden2)\n",
    "model = tf.keras.Model(inputs=[input_wide, input_deep],\n",
    "                       outputs=[output, aux_output])"
   ]
  },
  {
   "cell_type": "code",
   "execution_count": 62,
   "metadata": {},
   "outputs": [],
   "source": [
    "optimizer = tf.keras.optimizers.Adam(learning_rate=1e-3)\n",
    "model.compile(loss=(\"mse\", \"mse\"), loss_weights=(0.9, 0.1), optimizer=optimizer,\n",
    "              metrics=[\"RootMeanSquaredError\"])"
   ]
  },
  {
   "cell_type": "code",
   "execution_count": 63,
   "metadata": {},
   "outputs": [
    {
     "name": "stdout",
     "output_type": "stream",
     "text": [
      "Epoch 1/20\n",
      "363/363 [==============================] - 2s 2ms/step - loss: 1.3844 - dense_2_loss: 1.3124 - dense_3_loss: 2.0322 - dense_2_root_mean_squared_error: 1.1456 - dense_3_root_mean_squared_error: 1.4256 - val_loss: 1.7212 - val_dense_2_loss: 1.6412 - val_dense_3_loss: 2.4410 - val_dense_2_root_mean_squared_error: 1.2811 - val_dense_3_root_mean_squared_error: 1.5624\n",
      "Epoch 2/20\n",
      "363/363 [==============================] - 1s 2ms/step - loss: 0.5209 - dense_2_loss: 0.4887 - dense_3_loss: 0.8109 - dense_2_root_mean_squared_error: 0.6991 - dense_3_root_mean_squared_error: 0.9005 - val_loss: 1.9873 - val_dense_2_loss: 2.0723 - val_dense_3_loss: 1.2220 - val_dense_2_root_mean_squared_error: 1.4396 - val_dense_3_root_mean_squared_error: 1.1054\n",
      "Epoch 3/20\n",
      "363/363 [==============================] - 1s 2ms/step - loss: 0.4529 - dense_2_loss: 0.4339 - dense_3_loss: 0.6239 - dense_2_root_mean_squared_error: 0.6587 - dense_3_root_mean_squared_error: 0.7899 - val_loss: 0.4574 - val_dense_2_loss: 0.4434 - val_dense_3_loss: 0.5827 - val_dense_2_root_mean_squared_error: 0.6659 - val_dense_3_root_mean_squared_error: 0.7633\n",
      "Epoch 4/20\n",
      "363/363 [==============================] - 1s 2ms/step - loss: 0.4167 - dense_2_loss: 0.4009 - dense_3_loss: 0.5590 - dense_2_root_mean_squared_error: 0.6332 - dense_3_root_mean_squared_error: 0.7476 - val_loss: 0.3927 - val_dense_2_loss: 0.3748 - val_dense_3_loss: 0.5543 - val_dense_2_root_mean_squared_error: 0.6122 - val_dense_3_root_mean_squared_error: 0.7445\n",
      "Epoch 5/20\n",
      "363/363 [==============================] - 1s 2ms/step - loss: 0.4019 - dense_2_loss: 0.3884 - dense_3_loss: 0.5227 - dense_2_root_mean_squared_error: 0.6233 - dense_3_root_mean_squared_error: 0.7230 - val_loss: 0.4419 - val_dense_2_loss: 0.4257 - val_dense_3_loss: 0.5876 - val_dense_2_root_mean_squared_error: 0.6524 - val_dense_3_root_mean_squared_error: 0.7666\n",
      "Epoch 6/20\n",
      "363/363 [==============================] - 1s 2ms/step - loss: 0.3911 - dense_2_loss: 0.3790 - dense_3_loss: 0.4999 - dense_2_root_mean_squared_error: 0.6156 - dense_3_root_mean_squared_error: 0.7071 - val_loss: 0.3998 - val_dense_2_loss: 0.3822 - val_dense_3_loss: 0.5582 - val_dense_2_root_mean_squared_error: 0.6182 - val_dense_3_root_mean_squared_error: 0.7471\n",
      "Epoch 7/20\n",
      "363/363 [==============================] - 1s 2ms/step - loss: 0.3832 - dense_2_loss: 0.3722 - dense_3_loss: 0.4821 - dense_2_root_mean_squared_error: 0.6101 - dense_3_root_mean_squared_error: 0.6943 - val_loss: 0.5225 - val_dense_2_loss: 0.5062 - val_dense_3_loss: 0.6694 - val_dense_2_root_mean_squared_error: 0.7115 - val_dense_3_root_mean_squared_error: 0.8181\n",
      "Epoch 8/20\n",
      "363/363 [==============================] - 1s 2ms/step - loss: 0.3749 - dense_2_loss: 0.3646 - dense_3_loss: 0.4676 - dense_2_root_mean_squared_error: 0.6038 - dense_3_root_mean_squared_error: 0.6838 - val_loss: 0.5824 - val_dense_2_loss: 0.5532 - val_dense_3_loss: 0.8457 - val_dense_2_root_mean_squared_error: 0.7438 - val_dense_3_root_mean_squared_error: 0.9196\n",
      "Epoch 9/20\n",
      "363/363 [==============================] - 1s 2ms/step - loss: 0.3678 - dense_2_loss: 0.3582 - dense_3_loss: 0.4544 - dense_2_root_mean_squared_error: 0.5985 - dense_3_root_mean_squared_error: 0.6741 - val_loss: 0.6432 - val_dense_2_loss: 0.6098 - val_dense_3_loss: 0.9438 - val_dense_2_root_mean_squared_error: 0.7809 - val_dense_3_root_mean_squared_error: 0.9715\n",
      "Epoch 10/20\n",
      "363/363 [==============================] - 1s 2ms/step - loss: 0.3660 - dense_2_loss: 0.3568 - dense_3_loss: 0.4484 - dense_2_root_mean_squared_error: 0.5973 - dense_3_root_mean_squared_error: 0.6697 - val_loss: 0.9624 - val_dense_2_loss: 0.9351 - val_dense_3_loss: 1.2084 - val_dense_2_root_mean_squared_error: 0.9670 - val_dense_3_root_mean_squared_error: 1.0993\n",
      "Epoch 11/20\n",
      "363/363 [==============================] - 1s 2ms/step - loss: 0.3575 - dense_2_loss: 0.3492 - dense_3_loss: 0.4321 - dense_2_root_mean_squared_error: 0.5910 - dense_3_root_mean_squared_error: 0.6573 - val_loss: 0.5798 - val_dense_2_loss: 0.5645 - val_dense_3_loss: 0.7172 - val_dense_2_root_mean_squared_error: 0.7514 - val_dense_3_root_mean_squared_error: 0.8469\n",
      "Epoch 12/20\n",
      "363/363 [==============================] - 1s 2ms/step - loss: 0.3612 - dense_2_loss: 0.3530 - dense_3_loss: 0.4355 - dense_2_root_mean_squared_error: 0.5941 - dense_3_root_mean_squared_error: 0.6599 - val_loss: 0.6470 - val_dense_2_loss: 0.5900 - val_dense_3_loss: 1.1605 - val_dense_2_root_mean_squared_error: 0.7681 - val_dense_3_root_mean_squared_error: 1.0773\n",
      "Epoch 13/20\n",
      "363/363 [==============================] - 1s 2ms/step - loss: 0.3507 - dense_2_loss: 0.3429 - dense_3_loss: 0.4211 - dense_2_root_mean_squared_error: 0.5856 - dense_3_root_mean_squared_error: 0.6489 - val_loss: 0.3693 - val_dense_2_loss: 0.3622 - val_dense_3_loss: 0.4334 - val_dense_2_root_mean_squared_error: 0.6018 - val_dense_3_root_mean_squared_error: 0.6583\n",
      "Epoch 14/20\n",
      "363/363 [==============================] - 1s 2ms/step - loss: 0.3474 - dense_2_loss: 0.3400 - dense_3_loss: 0.4138 - dense_2_root_mean_squared_error: 0.5831 - dense_3_root_mean_squared_error: 0.6432 - val_loss: 0.3200 - val_dense_2_loss: 0.3111 - val_dense_3_loss: 0.3995 - val_dense_2_root_mean_squared_error: 0.5578 - val_dense_3_root_mean_squared_error: 0.6320\n",
      "Epoch 15/20\n",
      "363/363 [==============================] - 1s 2ms/step - loss: 0.3433 - dense_2_loss: 0.3364 - dense_3_loss: 0.4051 - dense_2_root_mean_squared_error: 0.5800 - dense_3_root_mean_squared_error: 0.6364 - val_loss: 0.3462 - val_dense_2_loss: 0.3408 - val_dense_3_loss: 0.3951 - val_dense_2_root_mean_squared_error: 0.5838 - val_dense_3_root_mean_squared_error: 0.6286\n",
      "Epoch 16/20\n",
      "363/363 [==============================] - 1s 2ms/step - loss: 0.3409 - dense_2_loss: 0.3339 - dense_3_loss: 0.4031 - dense_2_root_mean_squared_error: 0.5779 - dense_3_root_mean_squared_error: 0.6349 - val_loss: 0.3186 - val_dense_2_loss: 0.3092 - val_dense_3_loss: 0.4027 - val_dense_2_root_mean_squared_error: 0.5561 - val_dense_3_root_mean_squared_error: 0.6346\n",
      "Epoch 17/20\n",
      "363/363 [==============================] - 1s 2ms/step - loss: 0.3395 - dense_2_loss: 0.3328 - dense_3_loss: 0.3998 - dense_2_root_mean_squared_error: 0.5769 - dense_3_root_mean_squared_error: 0.6323 - val_loss: 0.3248 - val_dense_2_loss: 0.3153 - val_dense_3_loss: 0.4100 - val_dense_2_root_mean_squared_error: 0.5615 - val_dense_3_root_mean_squared_error: 0.6403\n",
      "Epoch 18/20\n",
      "363/363 [==============================] - 1s 2ms/step - loss: 0.3359 - dense_2_loss: 0.3292 - dense_3_loss: 0.3954 - dense_2_root_mean_squared_error: 0.5738 - dense_3_root_mean_squared_error: 0.6288 - val_loss: 0.3418 - val_dense_2_loss: 0.3365 - val_dense_3_loss: 0.3891 - val_dense_2_root_mean_squared_error: 0.5801 - val_dense_3_root_mean_squared_error: 0.6237\n",
      "Epoch 19/20\n",
      "363/363 [==============================] - 1s 2ms/step - loss: 0.3334 - dense_2_loss: 0.3269 - dense_3_loss: 0.3917 - dense_2_root_mean_squared_error: 0.5718 - dense_3_root_mean_squared_error: 0.6258 - val_loss: 0.3199 - val_dense_2_loss: 0.3102 - val_dense_3_loss: 0.4072 - val_dense_2_root_mean_squared_error: 0.5569 - val_dense_3_root_mean_squared_error: 0.6381\n",
      "Epoch 20/20\n",
      "363/363 [==============================] - 1s 2ms/step - loss: 0.3332 - dense_2_loss: 0.3269 - dense_3_loss: 0.3899 - dense_2_root_mean_squared_error: 0.5718 - dense_3_root_mean_squared_error: 0.6244 - val_loss: 0.3445 - val_dense_2_loss: 0.3278 - val_dense_3_loss: 0.4954 - val_dense_2_root_mean_squared_error: 0.5725 - val_dense_3_root_mean_squared_error: 0.7038\n"
     ]
    }
   ],
   "source": [
    "norm_layer_wide.adapt(X_train_wide)\n",
    "norm_layer_deep.adapt(X_train_deep)\n",
    "history = model.fit(\n",
    "    (X_train_wide, X_train_deep), (y_train, y_train), epochs=20,\n",
    "    validation_data=((X_valid_wide, X_valid_deep), (y_valid, y_valid))\n",
    ")"
   ]
  },
  {
   "cell_type": "code",
   "execution_count": 64,
   "metadata": {},
   "outputs": [
    {
     "name": "stdout",
     "output_type": "stream",
     "text": [
      "162/162 [==============================] - 0s 1ms/step - loss: 0.3307 - dense_2_loss: 0.3243 - dense_3_loss: 0.3889 - dense_2_root_mean_squared_error: 0.5695 - dense_3_root_mean_squared_error: 0.6236\n"
     ]
    }
   ],
   "source": [
    "eval_results = model.evaluate((X_test_wide, X_test_deep), (y_test, y_test))\n",
    "weighted_sum_of_losses, main_loss, aux_loss, main_rmse, aux_rmse = eval_results"
   ]
  },
  {
   "cell_type": "code",
   "execution_count": 65,
   "metadata": {},
   "outputs": [
    {
     "name": "stdout",
     "output_type": "stream",
     "text": [
      "WARNING:tensorflow:5 out of the last 5 calls to <function Model.make_predict_function.<locals>.predict_function at 0x7f876861c4c0> triggered tf.function retracing. Tracing is expensive and the excessive number of tracings could be due to (1) creating @tf.function repeatedly in a loop, (2) passing tensors with different shapes, (3) passing Python objects instead of tensors. For (1), please define your @tf.function outside of the loop. For (2), @tf.function has reduce_retracing=True option that can avoid unnecessary retracing. For (3), please refer to https://www.tensorflow.org/guide/function#controlling_retracing and https://www.tensorflow.org/api_docs/python/tf/function for  more details.\n",
      "1/1 [==============================] - 0s 99ms/step\n"
     ]
    }
   ],
   "source": [
    "y_pred_main, y_pred_aux = model.predict((X_new_wide, X_new_deep))"
   ]
  },
  {
   "cell_type": "code",
   "execution_count": 66,
   "metadata": {},
   "outputs": [
    {
     "name": "stdout",
     "output_type": "stream",
     "text": [
      "1/1 [==============================] - 0s 24ms/step\n"
     ]
    }
   ],
   "source": [
    "y_pred_tuple = model.predict((X_new_wide, X_new_deep))\n",
    "y_pred = dict(zip(model.output_names, y_pred_tuple))"
   ]
  },
  {
   "cell_type": "markdown",
   "metadata": {},
   "source": [
    "## Usando a API de subclasse para criar modelos dinâmicos"
   ]
  },
  {
   "cell_type": "code",
   "execution_count": 67,
   "metadata": {},
   "outputs": [],
   "source": [
    "class WideAndDeepModel(tf.keras.Model):\n",
    "    def __init__(self, units=30, activation=\"relu\", **kwargs):\n",
    "        super().__init__(**kwargs)  # needed to support naming the model\n",
    "        self.norm_layer_wide = tf.keras.layers.Normalization()\n",
    "        self.norm_layer_deep = tf.keras.layers.Normalization()\n",
    "        self.hidden1 = tf.keras.layers.Dense(units, activation=activation)\n",
    "        self.hidden2 = tf.keras.layers.Dense(units, activation=activation)\n",
    "        self.main_output = tf.keras.layers.Dense(1)\n",
    "        self.aux_output = tf.keras.layers.Dense(1)\n",
    "        \n",
    "    def call(self, inputs):\n",
    "        input_wide, input_deep = inputs\n",
    "        norm_wide = self.norm_layer_wide(input_wide)\n",
    "        norm_deep = self.norm_layer_deep(input_deep)\n",
    "        hidden1 = self.hidden1(norm_deep)\n",
    "        hidden2 = self.hidden2(hidden1)\n",
    "        concat = tf.keras.layers.concatenate([norm_wide, hidden2])\n",
    "        output = self.main_output(concat)\n",
    "        aux_output = self.aux_output(hidden2)\n",
    "        return output, aux_output\n",
    "\n",
    "tf.random.set_seed(42)  # extra code – just for reproducibility\n",
    "model = WideAndDeepModel(30, activation=\"relu\", name=\"my_cool_model\")"
   ]
  },
  {
   "cell_type": "code",
   "execution_count": 68,
   "metadata": {},
   "outputs": [
    {
     "name": "stdout",
     "output_type": "stream",
     "text": [
      "Epoch 1/10\n",
      "363/363 [==============================] - 2s 2ms/step - loss: 1.4539 - output_1_loss: 1.3680 - output_2_loss: 2.2270 - output_1_root_mean_squared_error: 1.1696 - output_2_root_mean_squared_error: 1.4923 - val_loss: 1.8741 - val_output_1_loss: 1.6349 - val_output_2_loss: 4.0267 - val_output_1_root_mean_squared_error: 1.2786 - val_output_2_root_mean_squared_error: 2.0067\n",
      "Epoch 2/10\n",
      "363/363 [==============================] - 1s 2ms/step - loss: 0.5542 - output_1_loss: 0.5315 - output_2_loss: 0.7583 - output_1_root_mean_squared_error: 0.7290 - output_2_root_mean_squared_error: 0.8708 - val_loss: 1.0456 - val_output_1_loss: 0.8365 - val_output_2_loss: 2.9281 - val_output_1_root_mean_squared_error: 0.9146 - val_output_2_root_mean_squared_error: 1.7112\n",
      "Epoch 3/10\n",
      "363/363 [==============================] - 1s 2ms/step - loss: 0.4579 - output_1_loss: 0.4397 - output_2_loss: 0.6221 - output_1_root_mean_squared_error: 0.6631 - output_2_root_mean_squared_error: 0.7887 - val_loss: 0.5610 - val_output_1_loss: 0.4566 - val_output_2_loss: 1.5004 - val_output_1_root_mean_squared_error: 0.6757 - val_output_2_root_mean_squared_error: 1.2249\n",
      "Epoch 4/10\n",
      "363/363 [==============================] - 1s 2ms/step - loss: 0.4211 - output_1_loss: 0.4050 - output_2_loss: 0.5654 - output_1_root_mean_squared_error: 0.6364 - output_2_root_mean_squared_error: 0.7519 - val_loss: 0.4184 - val_output_1_loss: 0.3662 - val_output_2_loss: 0.8884 - val_output_1_root_mean_squared_error: 0.6051 - val_output_2_root_mean_squared_error: 0.9426\n",
      "Epoch 5/10\n",
      "363/363 [==============================] - 1s 2ms/step - loss: 0.3970 - output_1_loss: 0.3830 - output_2_loss: 0.5232 - output_1_root_mean_squared_error: 0.6188 - output_2_root_mean_squared_error: 0.7233 - val_loss: 0.3982 - val_output_1_loss: 0.3724 - val_output_2_loss: 0.6299 - val_output_1_root_mean_squared_error: 0.6103 - val_output_2_root_mean_squared_error: 0.7937\n",
      "Epoch 6/10\n",
      "363/363 [==============================] - 1s 2ms/step - loss: 0.3807 - output_1_loss: 0.3684 - output_2_loss: 0.4914 - output_1_root_mean_squared_error: 0.6069 - output_2_root_mean_squared_error: 0.7010 - val_loss: 0.4620 - val_output_1_loss: 0.4298 - val_output_2_loss: 0.7514 - val_output_1_root_mean_squared_error: 0.6556 - val_output_2_root_mean_squared_error: 0.8668\n",
      "Epoch 7/10\n",
      "363/363 [==============================] - 1s 2ms/step - loss: 0.3711 - output_1_loss: 0.3603 - output_2_loss: 0.4677 - output_1_root_mean_squared_error: 0.6003 - output_2_root_mean_squared_error: 0.6839 - val_loss: 0.3734 - val_output_1_loss: 0.3642 - val_output_2_loss: 0.4555 - val_output_1_root_mean_squared_error: 0.6035 - val_output_2_root_mean_squared_error: 0.6749\n",
      "Epoch 8/10\n",
      "363/363 [==============================] - 1s 2ms/step - loss: 0.3614 - output_1_loss: 0.3519 - output_2_loss: 0.4472 - output_1_root_mean_squared_error: 0.5932 - output_2_root_mean_squared_error: 0.6687 - val_loss: 0.5908 - val_output_1_loss: 0.5788 - val_output_2_loss: 0.6984 - val_output_1_root_mean_squared_error: 0.7608 - val_output_2_root_mean_squared_error: 0.8357\n",
      "Epoch 9/10\n",
      "363/363 [==============================] - 1s 2ms/step - loss: 0.3558 - output_1_loss: 0.3473 - output_2_loss: 0.4327 - output_1_root_mean_squared_error: 0.5893 - output_2_root_mean_squared_error: 0.6578 - val_loss: 0.5499 - val_output_1_loss: 0.5575 - val_output_2_loss: 0.4817 - val_output_1_root_mean_squared_error: 0.7467 - val_output_2_root_mean_squared_error: 0.6940\n",
      "Epoch 10/10\n",
      "363/363 [==============================] - 1s 3ms/step - loss: 0.3556 - output_1_loss: 0.3479 - output_2_loss: 0.4250 - output_1_root_mean_squared_error: 0.5898 - output_2_root_mean_squared_error: 0.6519 - val_loss: 1.3956 - val_output_1_loss: 1.3886 - val_output_2_loss: 1.4581 - val_output_1_root_mean_squared_error: 1.1784 - val_output_2_root_mean_squared_error: 1.2075\n",
      "162/162 [==============================] - 0s 2ms/step - loss: 0.3490 - output_1_loss: 0.3413 - output_2_loss: 0.4190 - output_1_root_mean_squared_error: 0.5842 - output_2_root_mean_squared_error: 0.6473\n",
      "WARNING:tensorflow:6 out of the last 7 calls to <function Model.make_predict_function.<locals>.predict_function at 0x7f87685e2170> triggered tf.function retracing. Tracing is expensive and the excessive number of tracings could be due to (1) creating @tf.function repeatedly in a loop, (2) passing tensors with different shapes, (3) passing Python objects instead of tensors. For (1), please define your @tf.function outside of the loop. For (2), @tf.function has reduce_retracing=True option that can avoid unnecessary retracing. For (3), please refer to https://www.tensorflow.org/guide/function#controlling_retracing and https://www.tensorflow.org/api_docs/python/tf/function for  more details.\n",
      "1/1 [==============================] - 0s 84ms/step\n"
     ]
    }
   ],
   "source": [
    "optimizer = tf.keras.optimizers.Adam(learning_rate=1e-3)\n",
    "model.compile(loss=\"mse\", loss_weights=[0.9, 0.1], optimizer=optimizer,\n",
    "              metrics=[\"RootMeanSquaredError\"])\n",
    "model.norm_layer_wide.adapt(X_train_wide)\n",
    "model.norm_layer_deep.adapt(X_train_deep)\n",
    "history = model.fit(\n",
    "    (X_train_wide, X_train_deep), (y_train, y_train), epochs=10,\n",
    "    validation_data=((X_valid_wide, X_valid_deep), (y_valid, y_valid)))\n",
    "eval_results = model.evaluate((X_test_wide, X_test_deep), (y_test, y_test))\n",
    "weighted_sum_of_losses, main_loss, aux_loss, main_rmse, aux_rmse = eval_results\n",
    "y_pred_main, y_pred_aux = model.predict((X_new_wide, X_new_deep))"
   ]
  },
  {
   "cell_type": "markdown",
   "metadata": {},
   "source": [
    "## Salvando e restaurando um modelo"
   ]
  },
  {
   "cell_type": "code",
   "execution_count": 69,
   "metadata": {},
   "outputs": [],
   "source": [
    "# extra code – delete the directory, in case it already exists\n",
    "\n",
    "import shutil\n",
    "\n",
    "shutil.rmtree(\"my_keras_model\", ignore_errors=True)"
   ]
  },
  {
   "cell_type": "code",
   "execution_count": 70,
   "metadata": {},
   "outputs": [
    {
     "name": "stdout",
     "output_type": "stream",
     "text": [
      "INFO:tensorflow:Assets written to: my_keras_model/assets\n"
     ]
    }
   ],
   "source": [
    "model.save(\"my_keras_model\", save_format=\"tf\")"
   ]
  },
  {
   "cell_type": "code",
   "execution_count": 71,
   "metadata": {},
   "outputs": [
    {
     "name": "stdout",
     "output_type": "stream",
     "text": [
      "my_keras_model/assets\n",
      "my_keras_model/keras_metadata.pb\n",
      "my_keras_model/saved_model.pb\n",
      "my_keras_model/variables\n",
      "my_keras_model/variables/variables.data-00000-of-00001\n",
      "my_keras_model/variables/variables.index\n"
     ]
    }
   ],
   "source": [
    "# extra code – show the contents of the my_keras_model/ directory\n",
    "for path in sorted(Path(\"my_keras_model\").glob(\"**/*\")):\n",
    "    print(path)"
   ]
  },
  {
   "cell_type": "code",
   "execution_count": 72,
   "metadata": {},
   "outputs": [
    {
     "name": "stdout",
     "output_type": "stream",
     "text": [
      "1/1 [==============================] - 0s 116ms/step\n"
     ]
    }
   ],
   "source": [
    "model = tf.keras.models.load_model(\"my_keras_model\")\n",
    "y_pred_main, y_pred_aux = model.predict((X_new_wide, X_new_deep))"
   ]
  },
  {
   "cell_type": "code",
   "execution_count": 73,
   "metadata": {},
   "outputs": [],
   "source": [
    "model.save_weights(\"my_weights\")"
   ]
  },
  {
   "cell_type": "code",
   "execution_count": 74,
   "metadata": {},
   "outputs": [
    {
     "data": {
      "text/plain": [
       "<tensorflow.python.checkpoint.checkpoint.CheckpointLoadStatus at 0x7f8789f140d0>"
      ]
     },
     "execution_count": 74,
     "metadata": {},
     "output_type": "execute_result"
    }
   ],
   "source": [
    "model.load_weights(\"my_weights\")"
   ]
  },
  {
   "cell_type": "code",
   "execution_count": 75,
   "metadata": {},
   "outputs": [
    {
     "name": "stdout",
     "output_type": "stream",
     "text": [
      "my_weights.data-00000-of-00001\n",
      "my_weights.index\n"
     ]
    }
   ],
   "source": [
    "# extra code – show the list of my_weights.* files\n",
    "for path in sorted(Path().glob(\"my_weights.*\")):\n",
    "    print(path)"
   ]
  },
  {
   "cell_type": "markdown",
   "metadata": {},
   "source": [
    "## Usando retornos de chamada"
   ]
  },
  {
   "cell_type": "code",
   "execution_count": 76,
   "metadata": {},
   "outputs": [],
   "source": [
    "shutil.rmtree(\"my_checkpoints\", ignore_errors=True)  # extra code"
   ]
  },
  {
   "cell_type": "code",
   "execution_count": 77,
   "metadata": {},
   "outputs": [
    {
     "name": "stdout",
     "output_type": "stream",
     "text": [
      "Epoch 1/10\n",
      "363/363 [==============================] - 2s 4ms/step - loss: 0.3556 - output_1_loss: 0.3482 - output_2_loss: 0.4220 - output_1_root_mean_squared_error: 0.5901 - output_2_root_mean_squared_error: 0.6496 - val_loss: 0.3359 - val_output_1_loss: 0.3220 - val_output_2_loss: 0.4609 - val_output_1_root_mean_squared_error: 0.5674 - val_output_2_root_mean_squared_error: 0.6789\n",
      "Epoch 2/10\n",
      "363/363 [==============================] - 1s 4ms/step - loss: 0.3462 - output_1_loss: 0.3394 - output_2_loss: 0.4080 - output_1_root_mean_squared_error: 0.5826 - output_2_root_mean_squared_error: 0.6387 - val_loss: 0.4400 - val_output_1_loss: 0.4168 - val_output_2_loss: 0.6489 - val_output_1_root_mean_squared_error: 0.6456 - val_output_2_root_mean_squared_error: 0.8055\n",
      "Epoch 3/10\n",
      "363/363 [==============================] - 2s 5ms/step - loss: 0.3425 - output_1_loss: 0.3359 - output_2_loss: 0.4015 - output_1_root_mean_squared_error: 0.5796 - output_2_root_mean_squared_error: 0.6337 - val_loss: 0.3347 - val_output_1_loss: 0.3251 - val_output_2_loss: 0.4216 - val_output_1_root_mean_squared_error: 0.5702 - val_output_2_root_mean_squared_error: 0.6493\n",
      "Epoch 4/10\n",
      "363/363 [==============================] - 1s 3ms/step - loss: 0.3402 - output_1_loss: 0.3335 - output_2_loss: 0.4010 - output_1_root_mean_squared_error: 0.5775 - output_2_root_mean_squared_error: 0.6333 - val_loss: 0.3710 - val_output_1_loss: 0.3574 - val_output_2_loss: 0.4941 - val_output_1_root_mean_squared_error: 0.5978 - val_output_2_root_mean_squared_error: 0.7029\n",
      "Epoch 5/10\n",
      "363/363 [==============================] - 1s 3ms/step - loss: 0.3392 - output_1_loss: 0.3330 - output_2_loss: 0.3954 - output_1_root_mean_squared_error: 0.5770 - output_2_root_mean_squared_error: 0.6288 - val_loss: 0.4858 - val_output_1_loss: 0.4842 - val_output_2_loss: 0.4999 - val_output_1_root_mean_squared_error: 0.6958 - val_output_2_root_mean_squared_error: 0.7070\n",
      "Epoch 6/10\n",
      "363/363 [==============================] - 1s 4ms/step - loss: 0.3364 - output_1_loss: 0.3302 - output_2_loss: 0.3930 - output_1_root_mean_squared_error: 0.5746 - output_2_root_mean_squared_error: 0.6269 - val_loss: 1.0347 - val_output_1_loss: 1.0184 - val_output_2_loss: 1.1815 - val_output_1_root_mean_squared_error: 1.0092 - val_output_2_root_mean_squared_error: 1.0870\n",
      "Epoch 7/10\n",
      "363/363 [==============================] - 1s 3ms/step - loss: 0.3376 - output_1_loss: 0.3314 - output_2_loss: 0.3932 - output_1_root_mean_squared_error: 0.5757 - output_2_root_mean_squared_error: 0.6270 - val_loss: 0.5788 - val_output_1_loss: 0.5782 - val_output_2_loss: 0.5844 - val_output_1_root_mean_squared_error: 0.7604 - val_output_2_root_mean_squared_error: 0.7645\n",
      "Epoch 8/10\n",
      "363/363 [==============================] - 1s 3ms/step - loss: 0.3322 - output_1_loss: 0.3260 - output_2_loss: 0.3881 - output_1_root_mean_squared_error: 0.5710 - output_2_root_mean_squared_error: 0.6229 - val_loss: 1.1314 - val_output_1_loss: 1.1281 - val_output_2_loss: 1.1618 - val_output_1_root_mean_squared_error: 1.0621 - val_output_2_root_mean_squared_error: 1.0778\n",
      "Epoch 9/10\n",
      "363/363 [==============================] - 1s 4ms/step - loss: 0.3315 - output_1_loss: 0.3255 - output_2_loss: 0.3856 - output_1_root_mean_squared_error: 0.5705 - output_2_root_mean_squared_error: 0.6209 - val_loss: 0.5112 - val_output_1_loss: 0.5095 - val_output_2_loss: 0.5271 - val_output_1_root_mean_squared_error: 0.7138 - val_output_2_root_mean_squared_error: 0.7260\n",
      "Epoch 10/10\n",
      "363/363 [==============================] - 1s 3ms/step - loss: 0.3316 - output_1_loss: 0.3258 - output_2_loss: 0.3841 - output_1_root_mean_squared_error: 0.5708 - output_2_root_mean_squared_error: 0.6198 - val_loss: 0.7605 - val_output_1_loss: 0.7601 - val_output_2_loss: 0.7643 - val_output_1_root_mean_squared_error: 0.8718 - val_output_2_root_mean_squared_error: 0.8742\n"
     ]
    }
   ],
   "source": [
    "checkpoint_cb = tf.keras.callbacks.ModelCheckpoint(\"my_checkpoints\",\n",
    "                                                   save_weights_only=True)\n",
    "history = model.fit(\n",
    "    (X_train_wide, X_train_deep), (y_train, y_train), epochs=10,\n",
    "    validation_data=((X_valid_wide, X_valid_deep), (y_valid, y_valid)),\n",
    "    callbacks=[checkpoint_cb])"
   ]
  },
  {
   "cell_type": "code",
   "execution_count": 78,
   "metadata": {},
   "outputs": [
    {
     "name": "stdout",
     "output_type": "stream",
     "text": [
      "Epoch 1/100\n",
      "363/363 [==============================] - 2s 4ms/step - loss: 0.3272 - output_1_loss: 0.3214 - output_2_loss: 0.3796 - output_1_root_mean_squared_error: 0.5669 - output_2_root_mean_squared_error: 0.6161 - val_loss: 0.4570 - val_output_1_loss: 0.4551 - val_output_2_loss: 0.4735 - val_output_1_root_mean_squared_error: 0.6746 - val_output_2_root_mean_squared_error: 0.6881\n",
      "Epoch 2/100\n",
      "363/363 [==============================] - 1s 3ms/step - loss: 0.3283 - output_1_loss: 0.3227 - output_2_loss: 0.3788 - output_1_root_mean_squared_error: 0.5680 - output_2_root_mean_squared_error: 0.6155 - val_loss: 0.6808 - val_output_1_loss: 0.6689 - val_output_2_loss: 0.7884 - val_output_1_root_mean_squared_error: 0.8178 - val_output_2_root_mean_squared_error: 0.8879\n",
      "Epoch 3/100\n",
      "363/363 [==============================] - 1s 3ms/step - loss: 0.3279 - output_1_loss: 0.3225 - output_2_loss: 0.3758 - output_1_root_mean_squared_error: 0.5679 - output_2_root_mean_squared_error: 0.6130 - val_loss: 0.3243 - val_output_1_loss: 0.3189 - val_output_2_loss: 0.3728 - val_output_1_root_mean_squared_error: 0.5647 - val_output_2_root_mean_squared_error: 0.6106\n",
      "Epoch 4/100\n",
      "363/363 [==============================] - 2s 5ms/step - loss: 0.3244 - output_1_loss: 0.3187 - output_2_loss: 0.3753 - output_1_root_mean_squared_error: 0.5646 - output_2_root_mean_squared_error: 0.6126 - val_loss: 0.4740 - val_output_1_loss: 0.4674 - val_output_2_loss: 0.5335 - val_output_1_root_mean_squared_error: 0.6836 - val_output_2_root_mean_squared_error: 0.7304\n",
      "Epoch 5/100\n",
      "363/363 [==============================] - 2s 5ms/step - loss: 0.3237 - output_1_loss: 0.3183 - output_2_loss: 0.3722 - output_1_root_mean_squared_error: 0.5642 - output_2_root_mean_squared_error: 0.6100 - val_loss: 0.4956 - val_output_1_loss: 0.4904 - val_output_2_loss: 0.5420 - val_output_1_root_mean_squared_error: 0.7003 - val_output_2_root_mean_squared_error: 0.7362\n",
      "Epoch 6/100\n",
      "363/363 [==============================] - 1s 4ms/step - loss: 0.3223 - output_1_loss: 0.3168 - output_2_loss: 0.3712 - output_1_root_mean_squared_error: 0.5629 - output_2_root_mean_squared_error: 0.6093 - val_loss: 0.5295 - val_output_1_loss: 0.5343 - val_output_2_loss: 0.4858 - val_output_1_root_mean_squared_error: 0.7310 - val_output_2_root_mean_squared_error: 0.6970\n",
      "Epoch 7/100\n",
      "363/363 [==============================] - 1s 3ms/step - loss: 0.3216 - output_1_loss: 0.3163 - output_2_loss: 0.3692 - output_1_root_mean_squared_error: 0.5624 - output_2_root_mean_squared_error: 0.6076 - val_loss: 0.3317 - val_output_1_loss: 0.3258 - val_output_2_loss: 0.3857 - val_output_1_root_mean_squared_error: 0.5708 - val_output_2_root_mean_squared_error: 0.6210\n",
      "Epoch 8/100\n",
      "363/363 [==============================] - 1s 3ms/step - loss: 0.3181 - output_1_loss: 0.3126 - output_2_loss: 0.3670 - output_1_root_mean_squared_error: 0.5591 - output_2_root_mean_squared_error: 0.6058 - val_loss: 0.4897 - val_output_1_loss: 0.4860 - val_output_2_loss: 0.5228 - val_output_1_root_mean_squared_error: 0.6971 - val_output_2_root_mean_squared_error: 0.7231\n",
      "Epoch 9/100\n",
      "363/363 [==============================] - 1s 3ms/step - loss: 0.3174 - output_1_loss: 0.3121 - output_2_loss: 0.3650 - output_1_root_mean_squared_error: 0.5586 - output_2_root_mean_squared_error: 0.6042 - val_loss: 0.3184 - val_output_1_loss: 0.3072 - val_output_2_loss: 0.4183 - val_output_1_root_mean_squared_error: 0.5543 - val_output_2_root_mean_squared_error: 0.6468\n",
      "Epoch 10/100\n",
      "363/363 [==============================] - 1s 3ms/step - loss: 0.3176 - output_1_loss: 0.3124 - output_2_loss: 0.3649 - output_1_root_mean_squared_error: 0.5589 - output_2_root_mean_squared_error: 0.6041 - val_loss: 0.4214 - val_output_1_loss: 0.4158 - val_output_2_loss: 0.4717 - val_output_1_root_mean_squared_error: 0.6448 - val_output_2_root_mean_squared_error: 0.6868\n",
      "Epoch 11/100\n",
      "363/363 [==============================] - 1s 3ms/step - loss: 0.3158 - output_1_loss: 0.3106 - output_2_loss: 0.3620 - output_1_root_mean_squared_error: 0.5573 - output_2_root_mean_squared_error: 0.6017 - val_loss: 0.3063 - val_output_1_loss: 0.2992 - val_output_2_loss: 0.3706 - val_output_1_root_mean_squared_error: 0.5470 - val_output_2_root_mean_squared_error: 0.6088\n",
      "Epoch 12/100\n",
      "363/363 [==============================] - 1s 3ms/step - loss: 0.3165 - output_1_loss: 0.3113 - output_2_loss: 0.3633 - output_1_root_mean_squared_error: 0.5580 - output_2_root_mean_squared_error: 0.6028 - val_loss: 0.6708 - val_output_1_loss: 0.6701 - val_output_2_loss: 0.6770 - val_output_1_root_mean_squared_error: 0.8186 - val_output_2_root_mean_squared_error: 0.8228\n",
      "Epoch 13/100\n",
      "363/363 [==============================] - 1s 3ms/step - loss: 0.3163 - output_1_loss: 0.3111 - output_2_loss: 0.3627 - output_1_root_mean_squared_error: 0.5578 - output_2_root_mean_squared_error: 0.6022 - val_loss: 0.4256 - val_output_1_loss: 0.4231 - val_output_2_loss: 0.4478 - val_output_1_root_mean_squared_error: 0.6505 - val_output_2_root_mean_squared_error: 0.6692\n",
      "Epoch 14/100\n",
      "363/363 [==============================] - 2s 5ms/step - loss: 0.3162 - output_1_loss: 0.3110 - output_2_loss: 0.3629 - output_1_root_mean_squared_error: 0.5577 - output_2_root_mean_squared_error: 0.6024 - val_loss: 0.4381 - val_output_1_loss: 0.4253 - val_output_2_loss: 0.5526 - val_output_1_root_mean_squared_error: 0.6522 - val_output_2_root_mean_squared_error: 0.7434\n",
      "Epoch 15/100\n",
      "363/363 [==============================] - 1s 3ms/step - loss: 0.3137 - output_1_loss: 0.3087 - output_2_loss: 0.3589 - output_1_root_mean_squared_error: 0.5556 - output_2_root_mean_squared_error: 0.5991 - val_loss: 0.3156 - val_output_1_loss: 0.3062 - val_output_2_loss: 0.4000 - val_output_1_root_mean_squared_error: 0.5534 - val_output_2_root_mean_squared_error: 0.6325\n",
      "Epoch 16/100\n",
      "363/363 [==============================] - 1s 3ms/step - loss: 0.3111 - output_1_loss: 0.3060 - output_2_loss: 0.3574 - output_1_root_mean_squared_error: 0.5532 - output_2_root_mean_squared_error: 0.5978 - val_loss: 0.3091 - val_output_1_loss: 0.3033 - val_output_2_loss: 0.3607 - val_output_1_root_mean_squared_error: 0.5508 - val_output_2_root_mean_squared_error: 0.6005\n",
      "Epoch 17/100\n",
      "363/363 [==============================] - 1s 3ms/step - loss: 0.3126 - output_1_loss: 0.3074 - output_2_loss: 0.3589 - output_1_root_mean_squared_error: 0.5545 - output_2_root_mean_squared_error: 0.5991 - val_loss: 0.2998 - val_output_1_loss: 0.2940 - val_output_2_loss: 0.3526 - val_output_1_root_mean_squared_error: 0.5422 - val_output_2_root_mean_squared_error: 0.5938\n",
      "Epoch 18/100\n",
      "363/363 [==============================] - 1s 3ms/step - loss: 0.3091 - output_1_loss: 0.3040 - output_2_loss: 0.3546 - output_1_root_mean_squared_error: 0.5514 - output_2_root_mean_squared_error: 0.5955 - val_loss: 0.6192 - val_output_1_loss: 0.6037 - val_output_2_loss: 0.7581 - val_output_1_root_mean_squared_error: 0.7770 - val_output_2_root_mean_squared_error: 0.8707\n",
      "Epoch 19/100\n",
      "363/363 [==============================] - 1s 2ms/step - loss: 0.3110 - output_1_loss: 0.3061 - output_2_loss: 0.3556 - output_1_root_mean_squared_error: 0.5532 - output_2_root_mean_squared_error: 0.5963 - val_loss: 0.4384 - val_output_1_loss: 0.4247 - val_output_2_loss: 0.5617 - val_output_1_root_mean_squared_error: 0.6517 - val_output_2_root_mean_squared_error: 0.7495\n",
      "Epoch 20/100\n",
      "363/363 [==============================] - 1s 3ms/step - loss: 0.3115 - output_1_loss: 0.3064 - output_2_loss: 0.3578 - output_1_root_mean_squared_error: 0.5535 - output_2_root_mean_squared_error: 0.5982 - val_loss: 0.5246 - val_output_1_loss: 0.5153 - val_output_2_loss: 0.6086 - val_output_1_root_mean_squared_error: 0.7178 - val_output_2_root_mean_squared_error: 0.7801\n",
      "Epoch 21/100\n",
      "363/363 [==============================] - 1s 3ms/step - loss: 0.3086 - output_1_loss: 0.3038 - output_2_loss: 0.3526 - output_1_root_mean_squared_error: 0.5511 - output_2_root_mean_squared_error: 0.5938 - val_loss: 0.3088 - val_output_1_loss: 0.3038 - val_output_2_loss: 0.3540 - val_output_1_root_mean_squared_error: 0.5512 - val_output_2_root_mean_squared_error: 0.5950\n",
      "Epoch 22/100\n",
      "363/363 [==============================] - 1s 3ms/step - loss: 0.3079 - output_1_loss: 0.3030 - output_2_loss: 0.3520 - output_1_root_mean_squared_error: 0.5504 - output_2_root_mean_squared_error: 0.5933 - val_loss: 0.3619 - val_output_1_loss: 0.3556 - val_output_2_loss: 0.4190 - val_output_1_root_mean_squared_error: 0.5963 - val_output_2_root_mean_squared_error: 0.6473\n",
      "Epoch 23/100\n",
      "363/363 [==============================] - 1s 2ms/step - loss: 0.3057 - output_1_loss: 0.3008 - output_2_loss: 0.3500 - output_1_root_mean_squared_error: 0.5485 - output_2_root_mean_squared_error: 0.5916 - val_loss: 0.3040 - val_output_1_loss: 0.2971 - val_output_2_loss: 0.3653 - val_output_1_root_mean_squared_error: 0.5451 - val_output_2_root_mean_squared_error: 0.6044\n",
      "Epoch 24/100\n",
      "363/363 [==============================] - 1s 3ms/step - loss: 0.3071 - output_1_loss: 0.3023 - output_2_loss: 0.3505 - output_1_root_mean_squared_error: 0.5498 - output_2_root_mean_squared_error: 0.5921 - val_loss: 0.5964 - val_output_1_loss: 0.5830 - val_output_2_loss: 0.7178 - val_output_1_root_mean_squared_error: 0.7635 - val_output_2_root_mean_squared_error: 0.8472\n",
      "Epoch 25/100\n",
      "363/363 [==============================] - 1s 3ms/step - loss: 0.3059 - output_1_loss: 0.3011 - output_2_loss: 0.3490 - output_1_root_mean_squared_error: 0.5487 - output_2_root_mean_squared_error: 0.5907 - val_loss: 0.3098 - val_output_1_loss: 0.3042 - val_output_2_loss: 0.3600 - val_output_1_root_mean_squared_error: 0.5515 - val_output_2_root_mean_squared_error: 0.6000\n",
      "Epoch 26/100\n",
      "363/363 [==============================] - 1s 2ms/step - loss: 0.3041 - output_1_loss: 0.2991 - output_2_loss: 0.3491 - output_1_root_mean_squared_error: 0.5469 - output_2_root_mean_squared_error: 0.5909 - val_loss: 0.5136 - val_output_1_loss: 0.5126 - val_output_2_loss: 0.5221 - val_output_1_root_mean_squared_error: 0.7160 - val_output_2_root_mean_squared_error: 0.7226\n",
      "Epoch 27/100\n",
      "363/363 [==============================] - 1s 3ms/step - loss: 0.3042 - output_1_loss: 0.2992 - output_2_loss: 0.3494 - output_1_root_mean_squared_error: 0.5470 - output_2_root_mean_squared_error: 0.5911 - val_loss: 0.3320 - val_output_1_loss: 0.3280 - val_output_2_loss: 0.3681 - val_output_1_root_mean_squared_error: 0.5727 - val_output_2_root_mean_squared_error: 0.6067\n"
     ]
    }
   ],
   "source": [
    "early_stopping_cb = tf.keras.callbacks.EarlyStopping(patience=10,\n",
    "                                                     restore_best_weights=True)\n",
    "history = model.fit(\n",
    "    (X_train_wide, X_train_deep), (y_train, y_train), epochs=100,\n",
    "    validation_data=((X_valid_wide, X_valid_deep), (y_valid, y_valid)),\n",
    "    callbacks=[checkpoint_cb, early_stopping_cb])"
   ]
  },
  {
   "cell_type": "code",
   "execution_count": 79,
   "metadata": {},
   "outputs": [],
   "source": [
    "class PrintValTrainRatioCallback(tf.keras.callbacks.Callback):\n",
    "    def on_epoch_end(self, epoch, logs):\n",
    "        ratio = logs[\"val_loss\"] / logs[\"loss\"]\n",
    "        print(f\"Epoch={epoch}, val/train={ratio:.2f}\")"
   ]
  },
  {
   "cell_type": "code",
   "execution_count": 80,
   "metadata": {},
   "outputs": [
    {
     "name": "stdout",
     "output_type": "stream",
     "text": [
      "Epoch=0, val/train=1.53\n",
      "Epoch=1, val/train=1.22\n",
      "Epoch=2, val/train=1.74\n",
      "Epoch=3, val/train=1.39\n",
      "Epoch=4, val/train=1.35\n",
      "Epoch=5, val/train=1.08\n",
      "Epoch=6, val/train=1.23\n",
      "Epoch=7, val/train=1.21\n",
      "Epoch=8, val/train=2.04\n",
      "Epoch=9, val/train=1.19\n"
     ]
    }
   ],
   "source": [
    "val_train_ratio_cb = PrintValTrainRatioCallback()\n",
    "history = model.fit(\n",
    "    (X_train_wide, X_train_deep), (y_train, y_train), epochs=10,\n",
    "    validation_data=((X_valid_wide, X_valid_deep), (y_valid, y_valid)),\n",
    "    callbacks=[val_train_ratio_cb], verbose=0)"
   ]
  },
  {
   "cell_type": "markdown",
   "metadata": {},
   "source": [
    "## Usando o Tensorboard para visualização"
   ]
  },
  {
   "cell_type": "markdown",
   "metadata": {},
   "source": [
    "O Tensorboard é pré-instalado no Colab, mas não no `` tensorboard-plugin-perfil`, então vamos instalá-lo:"
   ]
  },
  {
   "cell_type": "code",
   "execution_count": 81,
   "metadata": {},
   "outputs": [],
   "source": [
    "if \"google.colab\" in sys.modules:  # extra code\n",
    "    %pip install -q -U tensorboard-plugin-profile"
   ]
  },
  {
   "cell_type": "code",
   "execution_count": 82,
   "metadata": {
    "tags": []
   },
   "outputs": [],
   "source": [
    "shutil.rmtree(\"my_logs\", ignore_errors=True)"
   ]
  },
  {
   "cell_type": "code",
   "execution_count": 83,
   "metadata": {},
   "outputs": [],
   "source": [
    "from pathlib import Path\n",
    "from time import strftime\n",
    "\n",
    "def get_run_logdir(root_logdir=\"my_logs\"):\n",
    "    return Path(root_logdir) / strftime(\"run_%Y_%m_%d_%H_%M_%S\")\n",
    "\n",
    "run_logdir = get_run_logdir()"
   ]
  },
  {
   "cell_type": "code",
   "execution_count": 84,
   "metadata": {},
   "outputs": [],
   "source": [
    "# extra code – builds the first regression model we used earlier\n",
    "tf.keras.backend.clear_session()\n",
    "tf.random.set_seed(42)\n",
    "norm_layer = tf.keras.layers.Normalization(input_shape=X_train.shape[1:])\n",
    "model = tf.keras.Sequential([\n",
    "    norm_layer,\n",
    "    tf.keras.layers.Dense(30, activation=\"relu\"),\n",
    "    tf.keras.layers.Dense(30, activation=\"relu\"),\n",
    "    tf.keras.layers.Dense(1)\n",
    "])\n",
    "optimizer = tf.keras.optimizers.SGD(learning_rate=1e-3)\n",
    "model.compile(loss=\"mse\", optimizer=optimizer, metrics=[\"RootMeanSquaredError\"])\n",
    "norm_layer.adapt(X_train)"
   ]
  },
  {
   "cell_type": "code",
   "execution_count": 85,
   "metadata": {},
   "outputs": [
    {
     "name": "stdout",
     "output_type": "stream",
     "text": [
      "Epoch 1/20\n"
     ]
    },
    {
     "name": "stderr",
     "output_type": "stream",
     "text": [
      "2024-01-18 19:35:34.840522: I tensorflow/core/profiler/lib/profiler_session.cc:101] Profiler session initializing.\n",
      "2024-01-18 19:35:34.840558: I tensorflow/core/profiler/lib/profiler_session.cc:116] Profiler session started.\n",
      "2024-01-18 19:35:34.900775: I tensorflow/core/profiler/lib/profiler_session.cc:128] Profiler session tear down.\n"
     ]
    },
    {
     "name": "stdout",
     "output_type": "stream",
     "text": [
      "180/363 [=============>................] - ETA: 0s - loss: 2.6434 - root_mean_squared_error: 1.6258"
     ]
    },
    {
     "name": "stderr",
     "output_type": "stream",
     "text": [
      "2024-01-18 19:35:35.495288: I tensorflow/core/profiler/lib/profiler_session.cc:101] Profiler session initializing.\n",
      "2024-01-18 19:35:35.495323: I tensorflow/core/profiler/lib/profiler_session.cc:116] Profiler session started.\n",
      "2024-01-18 19:35:35.647331: I tensorflow/core/profiler/lib/profiler_session.cc:67] Profiler session collecting data.\n",
      "2024-01-18 19:35:35.699990: I tensorflow/core/profiler/lib/profiler_session.cc:128] Profiler session tear down.\n",
      "2024-01-18 19:35:35.814985: I tensorflow/core/profiler/rpc/client/save_profile.cc:136] Creating directory: my_logs/run_2024_01_18_19_35_34/plugins/profile/2024_01_18_19_35_35\n",
      "\n",
      "2024-01-18 19:35:35.866973: I tensorflow/core/profiler/rpc/client/save_profile.cc:142] Dumped gzipped tool data for trace.json.gz to my_logs/run_2024_01_18_19_35_34/plugins/profile/2024_01_18_19_35_35/dayvson.trace.json.gz\n"
     ]
    },
    {
     "name": "stdout",
     "output_type": "stream",
     "text": [
      "299/363 [=======================>......] - ETA: 0s - loss: 2.0791 - root_mean_squared_error: 1.4419"
     ]
    },
    {
     "name": "stderr",
     "output_type": "stream",
     "text": [
      "2024-01-18 19:35:35.942774: I tensorflow/core/profiler/rpc/client/save_profile.cc:136] Creating directory: my_logs/run_2024_01_18_19_35_34/plugins/profile/2024_01_18_19_35_35\n",
      "\n",
      "2024-01-18 19:35:35.943734: I tensorflow/core/profiler/rpc/client/save_profile.cc:142] Dumped gzipped tool data for memory_profile.json.gz to my_logs/run_2024_01_18_19_35_34/plugins/profile/2024_01_18_19_35_35/dayvson.memory_profile.json.gz\n",
      "2024-01-18 19:35:35.954136: I tensorflow/core/profiler/rpc/client/capture_profile.cc:251] Creating directory: my_logs/run_2024_01_18_19_35_34/plugins/profile/2024_01_18_19_35_35\n",
      "Dumped tool data for xplane.pb to my_logs/run_2024_01_18_19_35_34/plugins/profile/2024_01_18_19_35_35/dayvson.xplane.pb\n",
      "Dumped tool data for overview_page.pb to my_logs/run_2024_01_18_19_35_34/plugins/profile/2024_01_18_19_35_35/dayvson.overview_page.pb\n",
      "Dumped tool data for input_pipeline.pb to my_logs/run_2024_01_18_19_35_34/plugins/profile/2024_01_18_19_35_35/dayvson.input_pipeline.pb\n",
      "Dumped tool data for tensorflow_stats.pb to my_logs/run_2024_01_18_19_35_34/plugins/profile/2024_01_18_19_35_35/dayvson.tensorflow_stats.pb\n",
      "Dumped tool data for kernel_stats.pb to my_logs/run_2024_01_18_19_35_34/plugins/profile/2024_01_18_19_35_35/dayvson.kernel_stats.pb\n",
      "\n"
     ]
    },
    {
     "name": "stdout",
     "output_type": "stream",
     "text": [
      "363/363 [==============================] - 1s 3ms/step - loss: 1.8575 - root_mean_squared_error: 1.3629 - val_loss: 1.0579 - val_root_mean_squared_error: 1.0286\n",
      "Epoch 2/20\n",
      "363/363 [==============================] - 1s 2ms/step - loss: 0.6697 - root_mean_squared_error: 0.8183 - val_loss: 0.5950 - val_root_mean_squared_error: 0.7714\n",
      "Epoch 3/20\n",
      "363/363 [==============================] - 1s 1ms/step - loss: 0.6029 - root_mean_squared_error: 0.7765 - val_loss: 0.5681 - val_root_mean_squared_error: 0.7537\n",
      "Epoch 4/20\n",
      "363/363 [==============================] - 1s 2ms/step - loss: 0.5659 - root_mean_squared_error: 0.7523 - val_loss: 0.5220 - val_root_mean_squared_error: 0.7225\n",
      "Epoch 5/20\n",
      "363/363 [==============================] - 1s 2ms/step - loss: 0.5360 - root_mean_squared_error: 0.7321 - val_loss: 0.4874 - val_root_mean_squared_error: 0.6981\n",
      "Epoch 6/20\n",
      "363/363 [==============================] - 1s 2ms/step - loss: 0.5099 - root_mean_squared_error: 0.7141 - val_loss: 0.4644 - val_root_mean_squared_error: 0.6815\n",
      "Epoch 7/20\n",
      "363/363 [==============================] - 1s 2ms/step - loss: 0.4891 - root_mean_squared_error: 0.6994 - val_loss: 0.4459 - val_root_mean_squared_error: 0.6677\n",
      "Epoch 8/20\n",
      "363/363 [==============================] - 1s 2ms/step - loss: 0.4719 - root_mean_squared_error: 0.6869 - val_loss: 0.4347 - val_root_mean_squared_error: 0.6593\n",
      "Epoch 9/20\n",
      "363/363 [==============================] - 1s 2ms/step - loss: 0.4577 - root_mean_squared_error: 0.6765 - val_loss: 0.4222 - val_root_mean_squared_error: 0.6498\n",
      "Epoch 10/20\n",
      "363/363 [==============================] - 1s 2ms/step - loss: 0.4460 - root_mean_squared_error: 0.6678 - val_loss: 0.4164 - val_root_mean_squared_error: 0.6453\n",
      "Epoch 11/20\n",
      "363/363 [==============================] - 1s 2ms/step - loss: 0.4367 - root_mean_squared_error: 0.6608 - val_loss: 0.4201 - val_root_mean_squared_error: 0.6481\n",
      "Epoch 12/20\n",
      "363/363 [==============================] - 1s 2ms/step - loss: 0.4288 - root_mean_squared_error: 0.6548 - val_loss: 0.4129 - val_root_mean_squared_error: 0.6426\n",
      "Epoch 13/20\n",
      "363/363 [==============================] - 1s 3ms/step - loss: 0.4222 - root_mean_squared_error: 0.6498 - val_loss: 0.4159 - val_root_mean_squared_error: 0.6449\n",
      "Epoch 14/20\n",
      "363/363 [==============================] - 1s 2ms/step - loss: 0.4166 - root_mean_squared_error: 0.6454 - val_loss: 0.4146 - val_root_mean_squared_error: 0.6439\n",
      "Epoch 15/20\n",
      "363/363 [==============================] - 1s 2ms/step - loss: 0.4118 - root_mean_squared_error: 0.6418 - val_loss: 0.4113 - val_root_mean_squared_error: 0.6414\n",
      "Epoch 16/20\n",
      "363/363 [==============================] - 1s 2ms/step - loss: 0.4077 - root_mean_squared_error: 0.6386 - val_loss: 0.4044 - val_root_mean_squared_error: 0.6359\n",
      "Epoch 17/20\n",
      "363/363 [==============================] - 1s 2ms/step - loss: 0.4045 - root_mean_squared_error: 0.6360 - val_loss: 0.4109 - val_root_mean_squared_error: 0.6410\n",
      "Epoch 18/20\n",
      "363/363 [==============================] - 1s 2ms/step - loss: 0.4010 - root_mean_squared_error: 0.6333 - val_loss: 0.4173 - val_root_mean_squared_error: 0.6460\n",
      "Epoch 19/20\n",
      "363/363 [==============================] - 1s 2ms/step - loss: 0.3978 - root_mean_squared_error: 0.6307 - val_loss: 0.4017 - val_root_mean_squared_error: 0.6338\n",
      "Epoch 20/20\n",
      "363/363 [==============================] - 1s 2ms/step - loss: 0.3956 - root_mean_squared_error: 0.6290 - val_loss: 0.4255 - val_root_mean_squared_error: 0.6523\n"
     ]
    }
   ],
   "source": [
    "tensorboard_cb = tf.keras.callbacks.TensorBoard(run_logdir,\n",
    "                                                profile_batch=(100, 200))\n",
    "history = model.fit(X_train, y_train, epochs=20,\n",
    "                    validation_data=(X_valid, y_valid),\n",
    "                    callbacks=[tensorboard_cb])"
   ]
  },
  {
   "cell_type": "code",
   "execution_count": 86,
   "metadata": {},
   "outputs": [
    {
     "name": "stdout",
     "output_type": "stream",
     "text": [
      "my_logs\n",
      "  run_2024_01_18_19_35_34\n",
      "    events.out.tfevents.1705617335.dayvson.profile-empty\n",
      "    plugins\n",
      "      profile\n",
      "        2024_01_18_19_35_35\n",
      "          dayvson.input_pipeline.pb\n",
      "          dayvson.kernel_stats.pb\n",
      "          dayvson.memory_profile.json.gz\n",
      "          dayvson.overview_page.pb\n",
      "          dayvson.tensorflow_stats.pb\n",
      "          dayvson.trace.json.gz\n",
      "          dayvson.xplane.pb\n",
      "    train\n",
      "      events.out.tfevents.1705617334.dayvson.39508.0.v2\n",
      "    validation\n",
      "      events.out.tfevents.1705617336.dayvson.39508.1.v2\n"
     ]
    }
   ],
   "source": [
    "print(\"my_logs\")\n",
    "for path in sorted(Path(\"my_logs\").glob(\"**/*\")):\n",
    "    print(\"  \" * (len(path.parts) - 1) + path.parts[-1])"
   ]
  },
  {
   "cell_type": "markdown",
   "metadata": {},
   "source": [
    "Vamos carregar a extensão `tensorboard` jupyter e iniciar o servidor Tensorboard:"
   ]
  },
  {
   "cell_type": "code",
   "execution_count": 87,
   "metadata": {},
   "outputs": [
    {
     "data": {
      "text/html": [
       "\n",
       "      <iframe id=\"tensorboard-frame-7431dc23b7d14f7c\" width=\"100%\" height=\"800\" frameborder=\"0\">\n",
       "      </iframe>\n",
       "      <script>\n",
       "        (function() {\n",
       "          const frame = document.getElementById(\"tensorboard-frame-7431dc23b7d14f7c\");\n",
       "          const url = new URL(\"/\", window.location);\n",
       "          const port = 6006;\n",
       "          if (port) {\n",
       "            url.port = port;\n",
       "          }\n",
       "          frame.src = url;\n",
       "        })();\n",
       "      </script>\n",
       "    "
      ],
      "text/plain": [
       "<IPython.core.display.HTML object>"
      ]
     },
     "metadata": {},
     "output_type": "display_data"
    }
   ],
   "source": [
    "%load_ext tensorboard\n",
    "%tensorboard --logdir=./my_logs"
   ]
  },
  {
   "cell_type": "markdown",
   "metadata": {},
   "source": [
    "**Nota**: Se você preferir acessar o Tensorboard em uma guia separada, clique no link \"Localhost: 6006\" abaixo:"
   ]
  },
  {
   "cell_type": "code",
   "execution_count": 88,
   "metadata": {},
   "outputs": [
    {
     "data": {
      "text/html": [
       "<a href=\"http://localhost:6006/\">http://localhost:6006/</a>"
      ],
      "text/plain": [
       "<IPython.core.display.HTML object>"
      ]
     },
     "metadata": {},
     "output_type": "display_data"
    }
   ],
   "source": [
    "# extra code\n",
    "\n",
    "if \"google.colab\" in sys.modules:\n",
    "    from google.colab import output\n",
    "\n",
    "    output.serve_kernel_port_as_window(6006)\n",
    "else:\n",
    "    from IPython.display import display, HTML\n",
    "\n",
    "    display(HTML('<a href=\"http://localhost:6006/\">http://localhost:6006/</a>'))"
   ]
  },
  {
   "cell_type": "markdown",
   "metadata": {},
   "source": [
    "Você pode usar também visualizar histogramas, imagens, texto e até ouvir áudio usando o Tensorboard:"
   ]
  },
  {
   "cell_type": "code",
   "execution_count": 89,
   "metadata": {},
   "outputs": [],
   "source": [
    "test_logdir = get_run_logdir()\n",
    "writer = tf.summary.create_file_writer(str(test_logdir))\n",
    "with writer.as_default():\n",
    "    for step in range(1, 1000 + 1):\n",
    "        tf.summary.scalar(\"my_scalar\", np.sin(step / 10), step=step)\n",
    "        \n",
    "        data = (np.random.randn(100) + 2) * step / 100  # gets larger\n",
    "        tf.summary.histogram(\"my_hist\", data, buckets=50, step=step)\n",
    "        \n",
    "        images = np.random.rand(2, 32, 32, 3) * step / 1000  # gets brighter\n",
    "        tf.summary.image(\"my_images\", images, step=step)\n",
    "        \n",
    "        texts = [\"The step is \" + str(step), \"Its square is \" + str(step ** 2)]\n",
    "        tf.summary.text(\"my_text\", texts, step=step)\n",
    "        \n",
    "        sine_wave = tf.math.sin(tf.range(12000) / 48000 * 2 * np.pi * step)\n",
    "        audio = tf.reshape(tf.cast(sine_wave, tf.float32), [1, -1, 1])\n",
    "        tf.summary.audio(\"my_audio\", audio, sample_rate=48000, step=step)"
   ]
  },
  {
   "cell_type": "markdown",
   "metadata": {},
   "source": [
    "**Observação**: costumava ser possível compartilhar facilmente seus logs do TensorBoard com o mundo, enviando-os para https://tensorboard.dev/. Infelizmente, este serviço será encerrado em dezembro de 2023, por isso removi os exemplos de código correspondentes deste notebook."
   ]
  },
  {
   "cell_type": "markdown",
   "metadata": {},
   "source": [
    "Quando você interrompe este kernel Jupyter (também conhecido como Runtime), ele também interrompe automaticamente o servidor TensorBoard. Outra forma de parar o servidor TensorBoard é eliminá-lo, se você estiver executando em Linux ou MacOSX. Primeiro, você precisa encontrar o ID do processo:"
   ]
  },
  {
   "cell_type": "code",
   "execution_count": 90,
   "metadata": {},
   "outputs": [
    {
     "name": "stdout",
     "output_type": "stream",
     "text": [
      "Known TensorBoard instances:\n",
      "  - port 6006: logdir ./my_logs (started 0:00:19 ago; pid 43790)\n"
     ]
    }
   ],
   "source": [
    "# extra code – lists all running TensorBoard server instances\n",
    "\n",
    "from tensorboard import notebook\n",
    "\n",
    "notebook.list()"
   ]
  },
  {
   "cell_type": "markdown",
   "metadata": {},
   "source": [
    "Next you can use the following command on Linux or MacOSX, replacing `<pid>` with the pid listed above:\n",
    "\n",
    "    !kill <pid>\n",
    "\n",
    "On Windows:\n",
    "\n",
    "    !taskkill /F /PID <pid>"
   ]
  },
  {
   "cell_type": "markdown",
   "metadata": {},
   "source": [
    "# Hiperparâmetros de rede neural de ajuste fino"
   ]
  },
  {
   "cell_type": "markdown",
   "metadata": {},
   "source": [
    "Nesta seção, usaremos o conjunto de dados MNIST da moda novamente:"
   ]
  },
  {
   "cell_type": "code",
   "execution_count": 91,
   "metadata": {},
   "outputs": [],
   "source": [
    "(X_train_full, y_train_full), (X_test, y_test) = fashion_mnist\n",
    "X_train, y_train = X_train_full[:-5000], y_train_full[:-5000]\n",
    "X_valid, y_valid = X_train_full[-5000:], y_train_full[-5000:]"
   ]
  },
  {
   "cell_type": "code",
   "execution_count": 92,
   "metadata": {},
   "outputs": [],
   "source": [
    "tf.keras.backend.clear_session()\n",
    "tf.random.set_seed(42)"
   ]
  },
  {
   "cell_type": "code",
   "execution_count": 93,
   "metadata": {},
   "outputs": [],
   "source": [
    "if \"google.colab\" in sys.modules:\n",
    "    %pip install -q -U keras_tuner"
   ]
  },
  {
   "cell_type": "code",
   "execution_count": 94,
   "metadata": {},
   "outputs": [],
   "source": [
    "import keras_tuner as kt\n",
    "\n",
    "def build_model(hp):\n",
    "    n_hidden = hp.Int(\"n_hidden\", min_value=0, max_value=8, default=2)\n",
    "    n_neurons = hp.Int(\"n_neurons\", min_value=16, max_value=256)\n",
    "    learning_rate = hp.Float(\"learning_rate\", min_value=1e-4, max_value=1e-2,\n",
    "                             sampling=\"log\")\n",
    "    optimizer = hp.Choice(\"optimizer\", values=[\"sgd\", \"adam\"])\n",
    "    if optimizer == \"sgd\":\n",
    "        optimizer = tf.keras.optimizers.SGD(learning_rate=learning_rate)\n",
    "    else:\n",
    "        optimizer = tf.keras.optimizers.Adam(learning_rate=learning_rate)\n",
    "\n",
    "    model = tf.keras.Sequential()\n",
    "    model.add(tf.keras.layers.Flatten())\n",
    "    for _ in range(n_hidden):\n",
    "        model.add(tf.keras.layers.Dense(n_neurons, activation=\"relu\"))\n",
    "    model.add(tf.keras.layers.Dense(10, activation=\"softmax\"))\n",
    "    model.compile(loss=\"sparse_categorical_crossentropy\", optimizer=optimizer,\n",
    "                  metrics=[\"accuracy\"])\n",
    "    return model"
   ]
  },
  {
   "cell_type": "code",
   "execution_count": 95,
   "metadata": {},
   "outputs": [
    {
     "name": "stdout",
     "output_type": "stream",
     "text": [
      "Trial 5 Complete [00h 01m 01s]\n",
      "val_accuracy: 0.8708000183105469\n",
      "\n",
      "Best val_accuracy So Far: 0.8708000183105469\n",
      "Total elapsed time: 00h 04m 19s\n",
      "INFO:tensorflow:Oracle triggered exit\n"
     ]
    }
   ],
   "source": [
    "random_search_tuner = kt.RandomSearch(\n",
    "    build_model, objective=\"val_accuracy\", max_trials=5, overwrite=True,\n",
    "    directory=\"my_fashion_mnist\", project_name=\"my_rnd_search\", seed=42)\n",
    "random_search_tuner.search(X_train, y_train, epochs=10,\n",
    "                           validation_data=(X_valid, y_valid))"
   ]
  },
  {
   "cell_type": "code",
   "execution_count": 96,
   "metadata": {},
   "outputs": [],
   "source": [
    "top3_models = random_search_tuner.get_best_models(num_models=3)\n",
    "best_model = top3_models[0]"
   ]
  },
  {
   "cell_type": "code",
   "execution_count": 97,
   "metadata": {},
   "outputs": [
    {
     "data": {
      "text/plain": [
       "{'n_hidden': 5,\n",
       " 'n_neurons': 70,\n",
       " 'learning_rate': 0.00041268008323824807,\n",
       " 'optimizer': 'adam'}"
      ]
     },
     "execution_count": 97,
     "metadata": {},
     "output_type": "execute_result"
    }
   ],
   "source": [
    "top3_params = random_search_tuner.get_best_hyperparameters(num_trials=3)\n",
    "top3_params[0].values  # best hyperparameter values"
   ]
  },
  {
   "cell_type": "code",
   "execution_count": 98,
   "metadata": {},
   "outputs": [
    {
     "name": "stdout",
     "output_type": "stream",
     "text": [
      "Trial summary\n",
      "Hyperparameters:\n",
      "n_hidden: 5\n",
      "n_neurons: 70\n",
      "learning_rate: 0.00041268008323824807\n",
      "optimizer: adam\n",
      "Score: 0.8708000183105469\n"
     ]
    }
   ],
   "source": [
    "best_trial = random_search_tuner.oracle.get_best_trials(num_trials=1)[0]\n",
    "best_trial.summary()"
   ]
  },
  {
   "cell_type": "code",
   "execution_count": 99,
   "metadata": {},
   "outputs": [
    {
     "data": {
      "text/plain": [
       "0.8708000183105469"
      ]
     },
     "execution_count": 99,
     "metadata": {},
     "output_type": "execute_result"
    }
   ],
   "source": [
    "best_trial.metrics.get_last_value(\"val_accuracy\")"
   ]
  },
  {
   "cell_type": "code",
   "execution_count": 100,
   "metadata": {},
   "outputs": [
    {
     "name": "stdout",
     "output_type": "stream",
     "text": [
      "Epoch 1/10\n",
      "1875/1875 [==============================] - 7s 3ms/step - loss: 0.3304 - accuracy: 0.8784\n",
      "Epoch 2/10\n",
      "1875/1875 [==============================] - 5s 2ms/step - loss: 0.3149 - accuracy: 0.8830\n",
      "Epoch 3/10\n",
      "1875/1875 [==============================] - 4s 2ms/step - loss: 0.3076 - accuracy: 0.8856\n",
      "Epoch 4/10\n",
      "1875/1875 [==============================] - 5s 3ms/step - loss: 0.2976 - accuracy: 0.8893\n",
      "Epoch 5/10\n",
      "1875/1875 [==============================] - 4s 2ms/step - loss: 0.2929 - accuracy: 0.8909\n",
      "Epoch 6/10\n",
      "1875/1875 [==============================] - 4s 2ms/step - loss: 0.2852 - accuracy: 0.8926\n",
      "Epoch 7/10\n",
      "1875/1875 [==============================] - 4s 2ms/step - loss: 0.2774 - accuracy: 0.8961\n",
      "Epoch 8/10\n",
      "1875/1875 [==============================] - 4s 2ms/step - loss: 0.2742 - accuracy: 0.8981\n",
      "Epoch 9/10\n",
      "1875/1875 [==============================] - 4s 2ms/step - loss: 0.2658 - accuracy: 0.9001\n",
      "Epoch 10/10\n",
      "1875/1875 [==============================] - 4s 2ms/step - loss: 0.2653 - accuracy: 0.9007\n",
      "313/313 [==============================] - 1s 1ms/step - loss: 0.3557 - accuracy: 0.8765\n"
     ]
    }
   ],
   "source": [
    "best_model.fit(X_train_full, y_train_full, epochs=10)\n",
    "test_loss, test_accuracy = best_model.evaluate(X_test, y_test)"
   ]
  },
  {
   "cell_type": "code",
   "execution_count": 101,
   "metadata": {},
   "outputs": [],
   "source": [
    "class MyClassificationHyperModel(kt.HyperModel):\n",
    "    def build(self, hp):\n",
    "        return build_model(hp)\n",
    "\n",
    "    def fit(self, hp, model, X, y, **kwargs):\n",
    "        if hp.Boolean(\"normalize\"):\n",
    "            norm_layer = tf.keras.layers.Normalization()\n",
    "            X = norm_layer(X)\n",
    "        return model.fit(X, y, **kwargs)"
   ]
  },
  {
   "cell_type": "code",
   "execution_count": 102,
   "metadata": {},
   "outputs": [],
   "source": [
    "hyperband_tuner = kt.Hyperband(\n",
    "    MyClassificationHyperModel(), objective=\"val_accuracy\", seed=42,\n",
    "    max_epochs=10, factor=3, hyperband_iterations=2,\n",
    "    overwrite=True, directory=\"my_fashion_mnist\", project_name=\"hyperband\")"
   ]
  },
  {
   "cell_type": "code",
   "execution_count": 103,
   "metadata": {},
   "outputs": [
    {
     "name": "stdout",
     "output_type": "stream",
     "text": [
      "Trial 60 Complete [00h 00m 56s]\n",
      "val_accuracy: 0.8460000157356262\n",
      "\n",
      "Best val_accuracy So Far: 0.8708000183105469\n",
      "Total elapsed time: 00h 25m 37s\n",
      "INFO:tensorflow:Oracle triggered exit\n"
     ]
    }
   ],
   "source": [
    "root_logdir = Path(hyperband_tuner.project_dir) / \"tensorboard\"\n",
    "tensorboard_cb = tf.keras.callbacks.TensorBoard(root_logdir)\n",
    "early_stopping_cb = tf.keras.callbacks.EarlyStopping(patience=2)\n",
    "hyperband_tuner.search(X_train, y_train, epochs=10,\n",
    "                       validation_data=(X_valid, y_valid),\n",
    "                       callbacks=[early_stopping_cb, tensorboard_cb])"
   ]
  },
  {
   "cell_type": "code",
   "execution_count": 104,
   "metadata": {},
   "outputs": [
    {
     "name": "stdout",
     "output_type": "stream",
     "text": [
      "Trial 10 Complete [00h 00m 09s]\n",
      "val_accuracy: 0.7825999855995178\n",
      "\n",
      "Best val_accuracy So Far: 0.8601999878883362\n",
      "Total elapsed time: 00h 04m 59s\n",
      "INFO:tensorflow:Oracle triggered exit\n"
     ]
    }
   ],
   "source": [
    "bayesian_opt_tuner = kt.BayesianOptimization(\n",
    "    MyClassificationHyperModel(), objective=\"val_accuracy\", seed=42,\n",
    "    max_trials=10, alpha=1e-4, beta=2.6,\n",
    "    overwrite=True, directory=\"my_fashion_mnist\", project_name=\"bayesian_opt\")\n",
    "bayesian_opt_tuner.search(X_train, y_train, epochs=10,\n",
    "                          validation_data=(X_valid, y_valid),\n",
    "                          callbacks=[early_stopping_cb])"
   ]
  },
  {
   "cell_type": "code",
   "execution_count": 105,
   "metadata": {},
   "outputs": [
    {
     "data": {
      "text/plain": [
       "ERROR: Failed to launch TensorBoard (exited with 1).\n",
       "Contents of stderr:\n",
       "2024-01-18 20:12:55.423447: I tensorflow/tsl/cuda/cudart_stub.cc:28] Could not find cuda drivers on your machine, GPU will not be used.\n",
       "2024-01-18 20:12:56.600270: E tensorflow/compiler/xla/stream_executor/cuda/cuda_dnn.cc:9342] Unable to register cuDNN factory: Attempting to register factory for plugin cuDNN when one has already been registered\n",
       "2024-01-18 20:12:56.600327: E tensorflow/compiler/xla/stream_executor/cuda/cuda_fft.cc:609] Unable to register cuFFT factory: Attempting to register factory for plugin cuFFT when one has already been registered\n",
       "2024-01-18 20:12:56.605125: E tensorflow/compiler/xla/stream_executor/cuda/cuda_blas.cc:1518] Unable to register cuBLAS factory: Attempting to register factory for plugin cuBLAS when one has already been registered\n",
       "2024-01-18 20:12:57.381105: I tensorflow/tsl/cuda/cudart_stub.cc:28] Could not find cuda drivers on your machine, GPU will not be used.\n",
       "2024-01-18 20:12:57.388142: I tensorflow/core/platform/cpu_feature_guard.cc:182] This TensorFlow binary is optimized to use available CPU instructions in performance-critical operations.\n",
       "To enable the following instructions: AVX2 FMA, in other operations, rebuild TensorFlow with the appropriate compiler flags.\n",
       "2024-01-18 20:13:01.636333: W tensorflow/compiler/tf2tensorrt/utils/py_utils.cc:38] TF-TRT Warning: Could not find TensorRT\n",
       "2024-01-18 20:13:07.106074: E tensorflow/compiler/xla/stream_executor/cuda/cuda_driver.cc:268] failed call to cuInit: CUDA_ERROR_NO_DEVICE: no CUDA-capable device is detected\n",
       "\n",
       "NOTE: Using experimental fast data loading logic. To disable, pass\n",
       "    \"--load_fast=false\" and report issues on GitHub. More details:\n",
       "    https://github.com/tensorflow/tensorboard/issues/4784\n",
       "\n",
       "Address already in use\n",
       "Port 6006 is in use by another program. Either identify and stop that program, or start the server with a different port."
      ]
     },
     "metadata": {},
     "output_type": "display_data"
    }
   ],
   "source": [
    "%tensorboard --logdir {root_logdir}"
   ]
  },
  {
   "cell_type": "markdown",
   "metadata": {},
   "source": [
    "# Soluções de exercícios"
   ]
  },
  {
   "cell_type": "markdown",
   "metadata": {},
   "source": [
    "## 1. a 9."
   ]
  },
  {
   "cell_type": "markdown",
   "metadata": {},
   "source": [
    "1. Visite o [TensorFlow Playground](https://playground.tensorflow.org/) e experimente-o, conforme descrito neste exercício.\n",
    "2. Aqui está uma rede neural baseada nos neurônios artificiais originais que calcula _A_ ⊕ _B_ (onde ⊕ representa o OR exclusivo), usando o fato de que _A_ ⊕ _B_ = (_A_ ∧ ¬ _B_) ∨ (¬ _A_ ∧ _B_). Existem outras soluções - por exemplo, usando o fato de que _A_ ⊕ _B_ = (_A_ ∨ _B_) ∧ ¬(_A_ ∧ _B_), ou o fato de que _A_ ⊕ _B_ = (_A_ ∨ _B_) ∧ (¬ _A_ ∨ ¬ _B_) e assim por diante.<br /><img width=\"70%\" src=\"images/ann/exercise2.png\" />\n",
    "3. Um Perceptron clássico convergirá apenas se o conjunto de dados for linearmente separável e não será capaz de estimar as probabilidades de classe. Em contraste, um classificador de regressão logística geralmente convergirá para uma solução razoavelmente boa, mesmo que o conjunto de dados não seja linearmente separável, e produzirá probabilidades de classe. Se você alterar a função de ativação do Perceptron para a função de ativação sigmóide (ou a função de ativação softmax se houver vários neurônios) e se você treiná-lo usando Gradient Descent (ou algum outro algoritmo de otimização que minimize a função de custo, normalmente entropia cruzada), então torna-se equivalente a um classificador de regressão logística.\n",
    "4. A função de ativação sigmóide foi um ingrediente chave no treinamento dos primeiros MLPs porque sua derivada é sempre diferente de zero, então o Gradient Descent sempre pode rolar ladeira abaixo. Quando a função de ativação é uma função escalonada, o Gradient Descent não pode se mover, pois não há inclinação alguma.\n",
    "5. Funções de ativação populares incluem a função degrau, a função sigmóide, a função tangente hiperbólica (tanh) e a função Unidade Linear Retificada (ReLU) (veja a Figura 10-8). Consulte o Capítulo 11 para outros exemplos, como ELU e variantes da função ReLU.\n",
    "6. Considerando o MLP descrito na questão, composto por uma camada de entrada com 10 neurônios de passagem, seguida por uma camada oculta com 50 neurônios artificiais e, finalmente, uma camada de saída com 3 neurônios artificiais, onde todos os neurônios artificiais utilizam a função de ativação ReLU:\n",
    "     * O formato da matriz de entrada **X** é _m_ × 10, onde _m_ representa o tamanho do lote de treinamento.\n",
    "     * A forma da matriz de pesos da camada oculta **W**<sub>_h_</sub> é 10 × 50 e o comprimento de seu vetor de polarização **b**<sub>_h_</sub> é 50.\n",
    "     * A forma da matriz de pesos da camada de saída **W**<sub>_o_</sub> é 50 × 3, e o comprimento de seu vetor de polarização **b**<sub>_o_</sub> é 3.\n",
    "     * O formato da matriz de saída da rede **Y** é _m_ × 3.\n",
    "     * **Y** = ReLU(ReLU(**X** **W**<sub>_h_</sub> + **b**<sub>_h_</sub>) **W**< sub>_o_</sub> + **b**<sub>_o_</sub>). Lembre-se de que a função ReLU apenas define todos os números negativos da matriz como zero. Observe também que quando você adiciona um vetor de polarização a uma matriz, ele é adicionado a cada linha da matriz, o que é chamado de _broadcasting_.\n",
    "7. Para classificar o e-mail como spam ou ham, você só precisa de um neurônio na camada de saída de uma rede neural – por exemplo, indicando a probabilidade de o e-mail ser spam. Normalmente, você usaria a função de ativação sigmóide na camada de saída ao estimar uma probabilidade. Se, em vez disso, você quiser lidar com o MNIST, precisará de 10 neurônios na camada de saída e deverá substituir a função sigmóide pela função de ativação softmax, que pode lidar com várias classes, gerando uma probabilidade por classe. Se você deseja que sua rede neural preveja preços de imóveis como no Capítulo 2, então você precisa de um neurônio de saída, sem usar nenhuma função de ativação na camada de saída. Observação: quando os valores a serem previstos podem variar em muitas ordens de magnitude, você pode querer prever o logaritmo do valor alvo em vez do valor alvo diretamente. Simplesmente calcular o exponencial da saída da rede neural lhe dará o valor estimado (já que exp(log _v_) = _v_).\n",
    "8. Backpropagation é uma técnica usada para treinar redes neurais artificiais. Ele primeiro calcula os gradientes da função de custo em relação a cada parâmetro do modelo (todos os pesos e vieses) e, em seguida, executa uma etapa de Gradient Descent usando esses gradientes. Essa etapa de retropropagação normalmente é executada milhares ou milhões de vezes, usando muitos lotes de treinamento, até que os parâmetros do modelo convirjam para valores que (esperançosamente) minimizem a função de custo. Para calcular os gradientes, a retropropagação usa autodiff de modo reverso (embora não tenha sido chamado assim quando a retropropagação foi inventada e tenha sido reinventada várias vezes). O autodiff de modo reverso executa uma passagem direta através de um gráfico de computação, calculando o valor de cada nó para o lote de treinamento atual e, em seguida, executa uma passagem reversa, calculando todos os gradientes de uma vez (consulte o Apêndice B para obter mais detalhes). Então qual é a diferença? Bem, retropropagação refere-se a todo o processo de treinamento de uma rede neural artificial usando várias etapas de retropropagação, cada uma das quais calcula gradientes e os usa para executar uma etapa de Gradient Descent. Em contraste, o autodiff de modo reverso é apenas uma técnica para calcular gradientes de forma eficiente e é usado por retropropagação.\n",
    "9. Aqui está uma lista de todos os hiperparâmetros que você pode ajustar em um MLP básico: o número de camadas ocultas, o número de neurônios em cada camada oculta e a função de ativação usada em cada camada oculta e na camada de saída. Em geral, a função de ativação ReLU (ou uma de suas variantes; consulte o Capítulo 11) é um bom padrão para as camadas ocultas. Para a camada de saída, em geral você desejará a função de ativação sigmóide para classificação binária, a função de ativação softmax para classificação multiclasse ou nenhuma função de ativação para regressão. Se o MLP superajustar os dados de treinamento, você pode tentar reduzir o número de camadas ocultas e reduzir o número de neurônios por camada oculta."
   ]
  },
  {
   "cell_type": "markdown",
   "metadata": {},
   "source": [
    "## 10."
   ]
  },
  {
   "cell_type": "markdown",
   "metadata": {},
   "source": [
    "*Exercício: Treine um MLP profundo no conjunto de dados MNIST (você pode carregá -lo usando `tf.keras.datasets.mnist.load_data ()`. Veja se você pode obter mais de 98% de precisão, afinando manualmente os hiperparâmetros.Taxa de aprendizado ideal usando a abordagem apresentada neste capítulo (isto é, aumentando a taxa de aprendizado exponencialmente, traçando a perda e encontrando o ponto em que a perda dispara). Em seguida, tente ajustar os hiperparâmetros usando o sintonizador Keras com todos os sinos eWhistles - Pontos de verificação, use a parada precoce e as curvas de aprendizado de plotagem usando o tensorboard.*"
   ]
  },
  {
   "cell_type": "markdown",
   "metadata": {},
   "source": [
    "**TODO**: Atualize esta solução para usar o sintonizador Keras."
   ]
  },
  {
   "cell_type": "markdown",
   "metadata": {},
   "source": [
    "Vamos carregar o conjunto de dados:"
   ]
  },
  {
   "cell_type": "code",
   "execution_count": 106,
   "metadata": {},
   "outputs": [
    {
     "name": "stdout",
     "output_type": "stream",
     "text": [
      "Downloading data from https://storage.googleapis.com/tensorflow/tf-keras-datasets/mnist.npz\n",
      "11490434/11490434 [==============================] - 2s 0us/step\n"
     ]
    }
   ],
   "source": [
    "(X_train_full, y_train_full), (X_test, y_test) = tf.keras.datasets.mnist.load_data()"
   ]
  },
  {
   "cell_type": "markdown",
   "metadata": {},
   "source": [
    "Assim como para o conjunto de dados MNIST da moda, o conjunto de treinamento MNIST contém 60.000 imagens em escala de cinza, cada um 28x28 pixels:"
   ]
  },
  {
   "cell_type": "code",
   "execution_count": 107,
   "metadata": {},
   "outputs": [
    {
     "data": {
      "text/plain": [
       "(60000, 28, 28)"
      ]
     },
     "execution_count": 107,
     "metadata": {},
     "output_type": "execute_result"
    }
   ],
   "source": [
    "X_train_full.shape"
   ]
  },
  {
   "cell_type": "markdown",
   "metadata": {},
   "source": [
    "Cada intensidade do pixel também é representada como um byte (0 a 255):"
   ]
  },
  {
   "cell_type": "code",
   "execution_count": 108,
   "metadata": {},
   "outputs": [
    {
     "data": {
      "text/plain": [
       "dtype('uint8')"
      ]
     },
     "execution_count": 108,
     "metadata": {},
     "output_type": "execute_result"
    }
   ],
   "source": [
    "X_train_full.dtype"
   ]
  },
  {
   "cell_type": "markdown",
   "metadata": {},
   "source": [
    "Vamos dividir o treinamento completo em um conjunto de validação e um conjunto de treinamento (menor).Também escalamos as intensidades de pixel até a faixa de 0-1 e as convertemos em flutuadores, dividindo-se por 255, assim como fizemos para a moda mnist:"
   ]
  },
  {
   "cell_type": "code",
   "execution_count": 109,
   "metadata": {},
   "outputs": [],
   "source": [
    "X_valid, X_train = X_train_full[:5000] / 255., X_train_full[5000:] / 255.\n",
    "y_valid, y_train = y_train_full[:5000], y_train_full[5000:]\n",
    "X_test = X_test / 255."
   ]
  },
  {
   "cell_type": "markdown",
   "metadata": {},
   "source": [
    "Vamos traçar uma imagem usando a função `imshow ()` ``, com um '' '' '' '' '' '' '\n",
    " mapa de cores:"
   ]
  },
  {
   "cell_type": "code",
   "execution_count": 110,
   "metadata": {},
   "outputs": [
    {
     "data": {
      "image/png": "[encoded data removed]",
      "text/plain": [
       "<Figure size 640x480 with 1 Axes>"
      ]
     },
     "metadata": {},
     "output_type": "display_data"
    }
   ],
   "source": [
    "plt.imshow(X_train[0], cmap=\"binary\")\n",
    "plt.axis('off')\n",
    "plt.show()"
   ]
  },
  {
   "cell_type": "markdown",
   "metadata": {},
   "source": [
    "Os rótulos são os IDs de classe (representados como UINT8), de 0 a 9. Convenientemente, os IDs da classe correspondem aos dígitos representados nas imagens, para que não precisemos de uma matriz `Class_Names`:"
   ]
  },
  {
   "cell_type": "code",
   "execution_count": 111,
   "metadata": {},
   "outputs": [
    {
     "data": {
      "text/plain": [
       "array([7, 3, 4, ..., 5, 6, 8], dtype=uint8)"
      ]
     },
     "execution_count": 111,
     "metadata": {},
     "output_type": "execute_result"
    }
   ],
   "source": [
    "y_train"
   ]
  },
  {
   "cell_type": "markdown",
   "metadata": {},
   "source": [
    "The validation set contains 5,000 images, and the test set contains 10,000 images:"
   ]
  },
  {
   "cell_type": "code",
   "execution_count": 112,
   "metadata": {},
   "outputs": [
    {
     "data": {
      "text/plain": [
       "(5000, 28, 28)"
      ]
     },
     "execution_count": 112,
     "metadata": {},
     "output_type": "execute_result"
    }
   ],
   "source": [
    "X_valid.shape"
   ]
  },
  {
   "cell_type": "code",
   "execution_count": 113,
   "metadata": {},
   "outputs": [
    {
     "data": {
      "text/plain": [
       "(10000, 28, 28)"
      ]
     },
     "execution_count": 113,
     "metadata": {},
     "output_type": "execute_result"
    }
   ],
   "source": [
    "X_test.shape"
   ]
  },
  {
   "cell_type": "markdown",
   "metadata": {},
   "source": [
    "Vamos dar uma olhada em uma amostra das imagens no conjunto de dados:"
   ]
  },
  {
   "cell_type": "code",
   "execution_count": 114,
   "metadata": {},
   "outputs": [
    {
     "data": {
      "image/png": "[encoded data removed]",
      "text/plain": [
       "<Figure size 1200x480 with 40 Axes>"
      ]
     },
     "metadata": {},
     "output_type": "display_data"
    }
   ],
   "source": [
    "n_rows = 4\n",
    "n_cols = 10\n",
    "plt.figure(figsize=(n_cols * 1.2, n_rows * 1.2))\n",
    "for row in range(n_rows):\n",
    "    for col in range(n_cols):\n",
    "        index = n_cols * row + col\n",
    "        plt.subplot(n_rows, n_cols, index + 1)\n",
    "        plt.imshow(X_train[index], cmap=\"binary\", interpolation=\"nearest\")\n",
    "        plt.axis('off')\n",
    "        plt.title(y_train[index])\n",
    "plt.subplots_adjust(wspace=0.2, hspace=0.5)\n",
    "plt.show()"
   ]
  },
  {
   "cell_type": "markdown",
   "metadata": {},
   "source": [
    "Vamos construir uma rede densa simples e encontrar a taxa de aprendizado ideal.Precisamos de um retorno de chamada para aumentar a taxa de aprendizado a cada iteração.Ele também registrará a taxa de aprendizado e a perda em cada iteração:"
   ]
  },
  {
   "cell_type": "code",
   "execution_count": 115,
   "metadata": {},
   "outputs": [],
   "source": [
    "K = tf.keras.backend\n",
    "\n",
    "class ExponentialLearningRate(tf.keras.callbacks.Callback):\n",
    "    def __init__(self, factor):\n",
    "        self.factor = factor\n",
    "        self.rates = []\n",
    "        self.losses = []\n",
    "    def on_batch_end(self, batch, logs):\n",
    "        self.rates.append(K.get_value(self.model.optimizer.learning_rate))\n",
    "        self.losses.append(logs[\"loss\"])\n",
    "        K.set_value(self.model.optimizer.learning_rate, self.model.optimizer.learning_rate * self.factor)"
   ]
  },
  {
   "cell_type": "code",
   "execution_count": 116,
   "metadata": {},
   "outputs": [],
   "source": [
    "tf.keras.backend.clear_session()\n",
    "np.random.seed(42)\n",
    "tf.random.set_seed(42)"
   ]
  },
  {
   "cell_type": "code",
   "execution_count": 117,
   "metadata": {},
   "outputs": [],
   "source": [
    "model = tf.keras.Sequential([\n",
    "    tf.keras.layers.Flatten(input_shape=[28, 28]),\n",
    "    tf.keras.layers.Dense(300, activation=\"relu\"),\n",
    "    tf.keras.layers.Dense(100, activation=\"relu\"),\n",
    "    tf.keras.layers.Dense(10, activation=\"softmax\")\n",
    "])"
   ]
  },
  {
   "cell_type": "markdown",
   "metadata": {},
   "source": [
    "Começaremos com uma pequena taxa de aprendizado de 1e-3 e aumentaremos 0,5% em cada iteração:"
   ]
  },
  {
   "cell_type": "code",
   "execution_count": 118,
   "metadata": {},
   "outputs": [],
   "source": [
    "optimizer = tf.keras.optimizers.SGD(learning_rate=1e-3)\n",
    "model.compile(loss=\"sparse_categorical_crossentropy\", optimizer=optimizer,\n",
    "              metrics=[\"accuracy\"])\n",
    "expon_lr = ExponentialLearningRate(factor=1.005)"
   ]
  },
  {
   "cell_type": "markdown",
   "metadata": {},
   "source": [
    "Agora vamos treinar o modelo por apenas 1 época:"
   ]
  },
  {
   "cell_type": "code",
   "execution_count": 119,
   "metadata": {},
   "outputs": [
    {
     "name": "stdout",
     "output_type": "stream",
     "text": [
      "1719/1719 [==============================] - 4s 2ms/step - loss: nan - accuracy: 0.5785 - val_loss: nan - val_accuracy: 0.0958\n"
     ]
    }
   ],
   "source": [
    "history = model.fit(X_train, y_train, epochs=1,\n",
    "                    validation_data=(X_valid, y_valid),\n",
    "                    callbacks=[expon_lr])"
   ]
  },
  {
   "cell_type": "markdown",
   "metadata": {},
   "source": [
    "Agora podemos plotar a perda em função da taxa de aprendizado:"
   ]
  },
  {
   "cell_type": "code",
   "execution_count": 120,
   "metadata": {},
   "outputs": [
    {
     "data": {
      "text/plain": [
       "Text(0, 0.5, 'Loss')"
      ]
     },
     "execution_count": 120,
     "metadata": {},
     "output_type": "execute_result"
    },
    {
     "data": {
      "image/png": "[encoded data removed]",
      "text/plain": [
       "<Figure size 640x480 with 1 Axes>"
      ]
     },
     "metadata": {},
     "output_type": "display_data"
    }
   ],
   "source": [
    "plt.plot(expon_lr.rates, expon_lr.losses)\n",
    "plt.gca().set_xscale('log')\n",
    "plt.hlines(min(expon_lr.losses), min(expon_lr.rates), max(expon_lr.rates))\n",
    "plt.axis([min(expon_lr.rates), max(expon_lr.rates), 0, expon_lr.losses[0]])\n",
    "plt.grid()\n",
    "plt.xlabel(\"Learning rate\")\n",
    "plt.ylabel(\"Loss\")"
   ]
  },
  {
   "cell_type": "markdown",
   "metadata": {},
   "source": [
    "A perda começa a disparar de volta violentamente quando a taxa de aprendizagem ultrapassa 6e-1, então vamos tentar usar metade disso, em 3e-1:"
   ]
  },
  {
   "cell_type": "code",
   "execution_count": 121,
   "metadata": {},
   "outputs": [],
   "source": [
    "tf.keras.backend.clear_session()\n",
    "np.random.seed(42)\n",
    "tf.random.set_seed(42)"
   ]
  },
  {
   "cell_type": "code",
   "execution_count": 122,
   "metadata": {},
   "outputs": [],
   "source": [
    "model = tf.keras.Sequential([\n",
    "    tf.keras.layers.Flatten(input_shape=[28, 28]),\n",
    "    tf.keras.layers.Dense(300, activation=\"relu\"),\n",
    "    tf.keras.layers.Dense(100, activation=\"relu\"),\n",
    "    tf.keras.layers.Dense(10, activation=\"softmax\")\n",
    "])"
   ]
  },
  {
   "cell_type": "code",
   "execution_count": 123,
   "metadata": {},
   "outputs": [],
   "source": [
    "optimizer = tf.keras.optimizers.SGD(learning_rate=3e-1)\n",
    "model.compile(loss=\"sparse_categorical_crossentropy\", optimizer=optimizer,\n",
    "              metrics=[\"accuracy\"])"
   ]
  },
  {
   "cell_type": "code",
   "execution_count": 124,
   "metadata": {},
   "outputs": [
    {
     "data": {
      "text/plain": [
       "PosixPath('my_mnist_logs/run_001')"
      ]
     },
     "execution_count": 124,
     "metadata": {},
     "output_type": "execute_result"
    }
   ],
   "source": [
    "run_index = 1 # increment this at every run\n",
    "run_logdir = Path() / \"my_mnist_logs\" / \"run_{:03d}\".format(run_index)\n",
    "run_logdir"
   ]
  },
  {
   "cell_type": "code",
   "execution_count": 125,
   "metadata": {},
   "outputs": [
    {
     "name": "stdout",
     "output_type": "stream",
     "text": [
      "Epoch 1/100\n",
      "1699/1719 [============================>.] - ETA: 0s - loss: 0.2328 - accuracy: 0.9271INFO:tensorflow:Assets written to: my_mnist_model/assets\n",
      "1719/1719 [==============================] - 5s 3ms/step - loss: 0.2319 - accuracy: 0.9273 - val_loss: 0.1104 - val_accuracy: 0.9660\n",
      "Epoch 2/100\n",
      "1719/1719 [==============================] - 4s 2ms/step - loss: 0.0960 - accuracy: 0.9705 - val_loss: 0.1327 - val_accuracy: 0.9616\n",
      "Epoch 3/100\n",
      "1712/1719 [============================>.] - ETA: 0s - loss: 0.0653 - accuracy: 0.9796INFO:tensorflow:Assets written to: my_mnist_model/assets\n",
      "1719/1719 [==============================] - 4s 2ms/step - loss: 0.0652 - accuracy: 0.9797 - val_loss: 0.0717 - val_accuracy: 0.9780\n",
      "Epoch 4/100\n",
      "1719/1719 [==============================] - 4s 2ms/step - loss: 0.0470 - accuracy: 0.9851 - val_loss: 0.0777 - val_accuracy: 0.9790\n",
      "Epoch 5/100\n",
      "1719/1719 [==============================] - 4s 3ms/step - loss: 0.0359 - accuracy: 0.9881 - val_loss: 0.0825 - val_accuracy: 0.9794\n",
      "Epoch 6/100\n",
      "1719/1719 [==============================] - 4s 2ms/step - loss: 0.0298 - accuracy: 0.9903 - val_loss: 0.0804 - val_accuracy: 0.9790\n",
      "Epoch 7/100\n",
      "1719/1719 [==============================] - 5s 3ms/step - loss: 0.0207 - accuracy: 0.9931 - val_loss: 0.0894 - val_accuracy: 0.9772\n",
      "Epoch 8/100\n",
      "1719/1719 [==============================] - 4s 2ms/step - loss: 0.0152 - accuracy: 0.9951 - val_loss: 0.0821 - val_accuracy: 0.9800\n",
      "Epoch 9/100\n",
      "1719/1719 [==============================] - 4s 2ms/step - loss: 0.0129 - accuracy: 0.9959 - val_loss: 0.0914 - val_accuracy: 0.9812\n",
      "Epoch 10/100\n",
      "1719/1719 [==============================] - 4s 2ms/step - loss: 0.0172 - accuracy: 0.9940 - val_loss: 0.0952 - val_accuracy: 0.9790\n",
      "Epoch 11/100\n",
      "1719/1719 [==============================] - 3s 2ms/step - loss: 0.0155 - accuracy: 0.9949 - val_loss: 0.1075 - val_accuracy: 0.9788\n",
      "Epoch 12/100\n",
      "1719/1719 [==============================] - 3s 2ms/step - loss: 0.0093 - accuracy: 0.9967 - val_loss: 0.1067 - val_accuracy: 0.9778\n",
      "Epoch 13/100\n",
      "1719/1719 [==============================] - 3s 2ms/step - loss: 0.0100 - accuracy: 0.9969 - val_loss: 0.0970 - val_accuracy: 0.9800\n",
      "Epoch 14/100\n",
      "1719/1719 [==============================] - 3s 2ms/step - loss: 0.0082 - accuracy: 0.9973 - val_loss: 0.0974 - val_accuracy: 0.9820\n",
      "Epoch 15/100\n",
      "1719/1719 [==============================] - 4s 2ms/step - loss: 0.0032 - accuracy: 0.9991 - val_loss: 0.0913 - val_accuracy: 0.9830\n",
      "Epoch 16/100\n",
      "1719/1719 [==============================] - 5s 3ms/step - loss: 0.0023 - accuracy: 0.9994 - val_loss: 0.0963 - val_accuracy: 0.9830\n",
      "Epoch 17/100\n",
      "1719/1719 [==============================] - 5s 3ms/step - loss: 0.0018 - accuracy: 0.9996 - val_loss: 0.0918 - val_accuracy: 0.9844\n",
      "Epoch 18/100\n",
      "1719/1719 [==============================] - 5s 3ms/step - loss: 2.4100e-04 - accuracy: 1.0000 - val_loss: 0.0895 - val_accuracy: 0.9854\n",
      "Epoch 19/100\n",
      "1719/1719 [==============================] - 6s 4ms/step - loss: 9.8569e-05 - accuracy: 1.0000 - val_loss: 0.0911 - val_accuracy: 0.9852\n",
      "Epoch 20/100\n",
      "1719/1719 [==============================] - 5s 3ms/step - loss: 7.8099e-05 - accuracy: 1.0000 - val_loss: 0.0920 - val_accuracy: 0.9854\n",
      "Epoch 21/100\n",
      "1719/1719 [==============================] - 5s 3ms/step - loss: 6.6887e-05 - accuracy: 1.0000 - val_loss: 0.0925 - val_accuracy: 0.9856\n",
      "Epoch 22/100\n",
      "1719/1719 [==============================] - 5s 3ms/step - loss: 5.9152e-05 - accuracy: 1.0000 - val_loss: 0.0933 - val_accuracy: 0.9858\n",
      "Epoch 23/100\n",
      "1719/1719 [==============================] - 5s 3ms/step - loss: 5.3236e-05 - accuracy: 1.0000 - val_loss: 0.0940 - val_accuracy: 0.9858\n"
     ]
    }
   ],
   "source": [
    "early_stopping_cb = tf.keras.callbacks.EarlyStopping(patience=20)\n",
    "checkpoint_cb = tf.keras.callbacks.ModelCheckpoint(\"my_mnist_model\", save_best_only=True)\n",
    "tensorboard_cb = tf.keras.callbacks.TensorBoard(run_logdir)\n",
    "\n",
    "history = model.fit(X_train, y_train, epochs=100,\n",
    "                    validation_data=(X_valid, y_valid),\n",
    "                    callbacks=[checkpoint_cb, early_stopping_cb, tensorboard_cb])"
   ]
  },
  {
   "cell_type": "code",
   "execution_count": 126,
   "metadata": {},
   "outputs": [
    {
     "name": "stdout",
     "output_type": "stream",
     "text": [
      "313/313 [==============================] - 1s 2ms/step - loss: 0.0700 - accuracy: 0.9787\n"
     ]
    },
    {
     "data": {
      "text/plain": [
       "[0.06999247521162033, 0.9786999821662903]"
      ]
     },
     "execution_count": 126,
     "metadata": {},
     "output_type": "execute_result"
    }
   ],
   "source": [
    "model = tf.keras.models.load_model(\"my_mnist_model\") # rollback to best model\n",
    "model.evaluate(X_test, y_test)"
   ]
  },
  {
   "cell_type": "markdown",
   "metadata": {},
   "source": [
    "Temos mais de 98% de precisão.Finalmente, vejamos as curvas de aprendizado usando o Tensorboard:"
   ]
  },
  {
   "cell_type": "code",
   "execution_count": 127,
   "metadata": {},
   "outputs": [
    {
     "data": {
      "text/plain": [
       "ERROR: Failed to launch TensorBoard (exited with 1).\n",
       "Contents of stderr:\n",
       "2024-01-18 20:15:12.358682: I tensorflow/tsl/cuda/cudart_stub.cc:28] Could not find cuda drivers on your machine, GPU will not be used.\n",
       "2024-01-18 20:15:13.460740: E tensorflow/compiler/xla/stream_executor/cuda/cuda_dnn.cc:9342] Unable to register cuDNN factory: Attempting to register factory for plugin cuDNN when one has already been registered\n",
       "2024-01-18 20:15:13.460978: E tensorflow/compiler/xla/stream_executor/cuda/cuda_fft.cc:609] Unable to register cuFFT factory: Attempting to register factory for plugin cuFFT when one has already been registered\n",
       "2024-01-18 20:15:13.465529: E tensorflow/compiler/xla/stream_executor/cuda/cuda_blas.cc:1518] Unable to register cuBLAS factory: Attempting to register factory for plugin cuBLAS when one has already been registered\n",
       "2024-01-18 20:15:14.243951: I tensorflow/tsl/cuda/cudart_stub.cc:28] Could not find cuda drivers on your machine, GPU will not be used.\n",
       "2024-01-18 20:15:14.265992: I tensorflow/core/platform/cpu_feature_guard.cc:182] This TensorFlow binary is optimized to use available CPU instructions in performance-critical operations.\n",
       "To enable the following instructions: AVX2 FMA, in other operations, rebuild TensorFlow with the appropriate compiler flags.\n",
       "2024-01-18 20:15:18.485995: W tensorflow/compiler/tf2tensorrt/utils/py_utils.cc:38] TF-TRT Warning: Could not find TensorRT\n",
       "2024-01-18 20:15:24.452863: E tensorflow/compiler/xla/stream_executor/cuda/cuda_driver.cc:268] failed call to cuInit: CUDA_ERROR_NO_DEVICE: no CUDA-capable device is detected\n",
       "\n",
       "NOTE: Using experimental fast data loading logic. To disable, pass\n",
       "    \"--load_fast=false\" and report issues on GitHub. More details:\n",
       "    https://github.com/tensorflow/tensorboard/issues/4784\n",
       "\n",
       "Address already in use\n",
       "Port 6006 is in use by another program. Either identify and stop that program, or start the server with a different port."
      ]
     },
     "metadata": {},
     "output_type": "display_data"
    }
   ],
   "source": [
    "%tensorboard --logdir=./my_mnist_logs"
   ]
  },
  {
   "cell_type": "code",
   "execution_count": null,
   "metadata": {},
   "outputs": [],
   "source": []
  }
 ],
 "metadata": {
  "kernelspec": {
   "display_name": "Python 3",
   "language": "python",
   "name": "python3"
  },
  "language_info": {
   "codemirror_mode": {
    "name": "ipython",
    "version": 3
   },
   "file_extension": ".py",
   "mimetype": "text/x-python",
   "name": "python",
   "nbconvert_exporter": "python",
   "pygments_lexer": "ipython3",
   "version": "3.10.12"
  },
  "nav_menu": {
   "height": "264px",
   "width": "369px"
  },
  "toc": {
   "navigate_menu": true,
   "number_sections": true,
   "sideBar": true,
   "threshold": 6,
   "toc_cell": false,
   "toc_section_display": "block",
   "toc_window_display": false
  }
 },
 "nbformat": 4,
 "nbformat_minor": 4
}
